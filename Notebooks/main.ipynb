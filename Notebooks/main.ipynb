{
  "cells": [
    {
      "cell_type": "markdown",
      "metadata": {
        "id": "O0Uybk3qu28P"
      },
      "source": [
        "# Dataset Summary and Objective\n",
        "\n",
        "## 1. Dataset Fields:\n",
        "- **Name:** Patient's name (can be anonymized or excluded for modeling).\n",
        "- **Age:** Patient's age.\n",
        "- **Gender:** Patient's gender (male/female).\n",
        "- **Blood Type:** Patient's blood type (e.g., A, B, AB, O).\n",
        "- **Medical Condition:** Patient's medical issue (e.g., cancer, obesity, diabetes).\n",
        "- **Date of Admission:** The date the patient was admitted to the hospital.\n",
        "- **Doctor:** The attending doctor.\n",
        "- **Hospital:** Hospital information.\n",
        "- **Insurance Provider:** Patient's insurance company.\n",
        "- **Billing Amount:** Total hospital expenses.\n",
        "- **Room Number:** Hospital room number.\n",
        "- **Admission Type:** Type of hospital admission (e.g., urgent, elective).\n",
        "- **Discharge Date:** The date the patient was discharged.\n",
        "- **Medication:** Prescribed medication.\n",
        "- **Test Results:** Health test results (Normal, Inconclusive, Abnormal).\n",
        "\n",
        "## 2. Project Objective:\n",
        "- Build a classification model to predict test results (Normal, Inconclusive, Abnormal).\n",
        "- Prioritize critical health cases by predicting health conditions early.\n",
        "- Analyze the impact of insurance costs, medication, and admission type on test results.\n",
        "\n",
        "## 3. Machine Learning Methods to Apply:\n",
        "- **Logistic Regression:** A simple and explainable classification model.\n",
        "- **Decision Trees:** To identify the most important features.\n",
        "- **Support Vector Machines (SVM):** For learning complex classification boundaries.\n",
        "\n",
        "## 4. Expected Outcomes:\n",
        "- Develop a classification model to predict critical health conditions effectively.\n",
        "- Improve the accuracy of test result predictions to support clinical decision-making.\n",
        "- Provide insights to optimize medical costs and enhance healthcare outcomes.\n"
      ]
    },
    {
      "cell_type": "markdown",
      "metadata": {
        "id": "4mnH5J-Su28T"
      },
      "source": [
        "# Libraries"
      ]
    },
    {
      "cell_type": "code",
      "execution_count": 3,
      "metadata": {
        "id": "SATy_k7au28U"
      },
      "outputs": [],
      "source": [
        "import pandas as pd\n",
        "import numpy as np\n",
        "import matplotlib.pyplot as plt\n",
        "import seaborn as sns\n",
        "import warnings\n",
        "import joblib\n",
        "import os\n",
        "warnings.filterwarnings(\"ignore\")\n"
      ]
    },
    {
      "cell_type": "markdown",
      "metadata": {
        "id": "V_Ng1Dtvu28W"
      },
      "source": [
        "# Data Import"
      ]
    },
    {
      "cell_type": "code",
      "execution_count": 4,
      "metadata": {
        "colab": {
          "base_uri": "https://localhost:8080/",
          "height": 348
        },
        "id": "U2344t8hu28X",
        "outputId": "690b655f-53d5-45a1-f2f3-503f80d2bca4"
      },
      "outputs": [
        {
          "output_type": "execute_result",
          "data": {
            "text/plain": [
              "            Name  Age  Gender Blood Type Medical Condition Date of Admission  \\\n",
              "0  Bobby JacksOn   30    Male         B-            Cancer        2024-01-31   \n",
              "1   LesLie TErRy   62    Male         A+           Obesity        2019-08-20   \n",
              "2    DaNnY sMitH   76  Female         A-           Obesity        2022-09-22   \n",
              "3   andrEw waTtS   28  Female         O+          Diabetes        2020-11-18   \n",
              "4  adrIENNE bEll   43  Female        AB+            Cancer        2022-09-19   \n",
              "\n",
              "             Doctor                    Hospital Insurance Provider  \\\n",
              "0     Matthew Smith             Sons and Miller         Blue Cross   \n",
              "1   Samantha Davies                     Kim Inc           Medicare   \n",
              "2  Tiffany Mitchell                    Cook PLC              Aetna   \n",
              "3       Kevin Wells  Hernandez Rogers and Vang,           Medicare   \n",
              "4    Kathleen Hanna                 White-White              Aetna   \n",
              "\n",
              "   Billing Amount  Room Number Admission Type Discharge Date   Medication  \\\n",
              "0    18856.281306          328         Urgent     2024-02-02  Paracetamol   \n",
              "1    33643.327287          265      Emergency     2019-08-26    Ibuprofen   \n",
              "2    27955.096079          205      Emergency     2022-10-07      Aspirin   \n",
              "3    37909.782410          450       Elective     2020-12-18    Ibuprofen   \n",
              "4    14238.317814          458         Urgent     2022-10-09   Penicillin   \n",
              "\n",
              "   Test Results  \n",
              "0        Normal  \n",
              "1  Inconclusive  \n",
              "2        Normal  \n",
              "3      Abnormal  \n",
              "4      Abnormal  "
            ],
            "text/html": [
              "\n",
              "  <div id=\"df-49aea913-9c2d-495c-9ffd-278eb861d3eb\" class=\"colab-df-container\">\n",
              "    <div>\n",
              "<style scoped>\n",
              "    .dataframe tbody tr th:only-of-type {\n",
              "        vertical-align: middle;\n",
              "    }\n",
              "\n",
              "    .dataframe tbody tr th {\n",
              "        vertical-align: top;\n",
              "    }\n",
              "\n",
              "    .dataframe thead th {\n",
              "        text-align: right;\n",
              "    }\n",
              "</style>\n",
              "<table border=\"1\" class=\"dataframe\">\n",
              "  <thead>\n",
              "    <tr style=\"text-align: right;\">\n",
              "      <th></th>\n",
              "      <th>Name</th>\n",
              "      <th>Age</th>\n",
              "      <th>Gender</th>\n",
              "      <th>Blood Type</th>\n",
              "      <th>Medical Condition</th>\n",
              "      <th>Date of Admission</th>\n",
              "      <th>Doctor</th>\n",
              "      <th>Hospital</th>\n",
              "      <th>Insurance Provider</th>\n",
              "      <th>Billing Amount</th>\n",
              "      <th>Room Number</th>\n",
              "      <th>Admission Type</th>\n",
              "      <th>Discharge Date</th>\n",
              "      <th>Medication</th>\n",
              "      <th>Test Results</th>\n",
              "    </tr>\n",
              "  </thead>\n",
              "  <tbody>\n",
              "    <tr>\n",
              "      <th>0</th>\n",
              "      <td>Bobby JacksOn</td>\n",
              "      <td>30</td>\n",
              "      <td>Male</td>\n",
              "      <td>B-</td>\n",
              "      <td>Cancer</td>\n",
              "      <td>2024-01-31</td>\n",
              "      <td>Matthew Smith</td>\n",
              "      <td>Sons and Miller</td>\n",
              "      <td>Blue Cross</td>\n",
              "      <td>18856.281306</td>\n",
              "      <td>328</td>\n",
              "      <td>Urgent</td>\n",
              "      <td>2024-02-02</td>\n",
              "      <td>Paracetamol</td>\n",
              "      <td>Normal</td>\n",
              "    </tr>\n",
              "    <tr>\n",
              "      <th>1</th>\n",
              "      <td>LesLie TErRy</td>\n",
              "      <td>62</td>\n",
              "      <td>Male</td>\n",
              "      <td>A+</td>\n",
              "      <td>Obesity</td>\n",
              "      <td>2019-08-20</td>\n",
              "      <td>Samantha Davies</td>\n",
              "      <td>Kim Inc</td>\n",
              "      <td>Medicare</td>\n",
              "      <td>33643.327287</td>\n",
              "      <td>265</td>\n",
              "      <td>Emergency</td>\n",
              "      <td>2019-08-26</td>\n",
              "      <td>Ibuprofen</td>\n",
              "      <td>Inconclusive</td>\n",
              "    </tr>\n",
              "    <tr>\n",
              "      <th>2</th>\n",
              "      <td>DaNnY sMitH</td>\n",
              "      <td>76</td>\n",
              "      <td>Female</td>\n",
              "      <td>A-</td>\n",
              "      <td>Obesity</td>\n",
              "      <td>2022-09-22</td>\n",
              "      <td>Tiffany Mitchell</td>\n",
              "      <td>Cook PLC</td>\n",
              "      <td>Aetna</td>\n",
              "      <td>27955.096079</td>\n",
              "      <td>205</td>\n",
              "      <td>Emergency</td>\n",
              "      <td>2022-10-07</td>\n",
              "      <td>Aspirin</td>\n",
              "      <td>Normal</td>\n",
              "    </tr>\n",
              "    <tr>\n",
              "      <th>3</th>\n",
              "      <td>andrEw waTtS</td>\n",
              "      <td>28</td>\n",
              "      <td>Female</td>\n",
              "      <td>O+</td>\n",
              "      <td>Diabetes</td>\n",
              "      <td>2020-11-18</td>\n",
              "      <td>Kevin Wells</td>\n",
              "      <td>Hernandez Rogers and Vang,</td>\n",
              "      <td>Medicare</td>\n",
              "      <td>37909.782410</td>\n",
              "      <td>450</td>\n",
              "      <td>Elective</td>\n",
              "      <td>2020-12-18</td>\n",
              "      <td>Ibuprofen</td>\n",
              "      <td>Abnormal</td>\n",
              "    </tr>\n",
              "    <tr>\n",
              "      <th>4</th>\n",
              "      <td>adrIENNE bEll</td>\n",
              "      <td>43</td>\n",
              "      <td>Female</td>\n",
              "      <td>AB+</td>\n",
              "      <td>Cancer</td>\n",
              "      <td>2022-09-19</td>\n",
              "      <td>Kathleen Hanna</td>\n",
              "      <td>White-White</td>\n",
              "      <td>Aetna</td>\n",
              "      <td>14238.317814</td>\n",
              "      <td>458</td>\n",
              "      <td>Urgent</td>\n",
              "      <td>2022-10-09</td>\n",
              "      <td>Penicillin</td>\n",
              "      <td>Abnormal</td>\n",
              "    </tr>\n",
              "  </tbody>\n",
              "</table>\n",
              "</div>\n",
              "    <div class=\"colab-df-buttons\">\n",
              "\n",
              "  <div class=\"colab-df-container\">\n",
              "    <button class=\"colab-df-convert\" onclick=\"convertToInteractive('df-49aea913-9c2d-495c-9ffd-278eb861d3eb')\"\n",
              "            title=\"Convert this dataframe to an interactive table.\"\n",
              "            style=\"display:none;\">\n",
              "\n",
              "  <svg xmlns=\"http://www.w3.org/2000/svg\" height=\"24px\" viewBox=\"0 -960 960 960\">\n",
              "    <path d=\"M120-120v-720h720v720H120Zm60-500h600v-160H180v160Zm220 220h160v-160H400v160Zm0 220h160v-160H400v160ZM180-400h160v-160H180v160Zm440 0h160v-160H620v160ZM180-180h160v-160H180v160Zm440 0h160v-160H620v160Z\"/>\n",
              "  </svg>\n",
              "    </button>\n",
              "\n",
              "  <style>\n",
              "    .colab-df-container {\n",
              "      display:flex;\n",
              "      gap: 12px;\n",
              "    }\n",
              "\n",
              "    .colab-df-convert {\n",
              "      background-color: #E8F0FE;\n",
              "      border: none;\n",
              "      border-radius: 50%;\n",
              "      cursor: pointer;\n",
              "      display: none;\n",
              "      fill: #1967D2;\n",
              "      height: 32px;\n",
              "      padding: 0 0 0 0;\n",
              "      width: 32px;\n",
              "    }\n",
              "\n",
              "    .colab-df-convert:hover {\n",
              "      background-color: #E2EBFA;\n",
              "      box-shadow: 0px 1px 2px rgba(60, 64, 67, 0.3), 0px 1px 3px 1px rgba(60, 64, 67, 0.15);\n",
              "      fill: #174EA6;\n",
              "    }\n",
              "\n",
              "    .colab-df-buttons div {\n",
              "      margin-bottom: 4px;\n",
              "    }\n",
              "\n",
              "    [theme=dark] .colab-df-convert {\n",
              "      background-color: #3B4455;\n",
              "      fill: #D2E3FC;\n",
              "    }\n",
              "\n",
              "    [theme=dark] .colab-df-convert:hover {\n",
              "      background-color: #434B5C;\n",
              "      box-shadow: 0px 1px 3px 1px rgba(0, 0, 0, 0.15);\n",
              "      filter: drop-shadow(0px 1px 2px rgba(0, 0, 0, 0.3));\n",
              "      fill: #FFFFFF;\n",
              "    }\n",
              "  </style>\n",
              "\n",
              "    <script>\n",
              "      const buttonEl =\n",
              "        document.querySelector('#df-49aea913-9c2d-495c-9ffd-278eb861d3eb button.colab-df-convert');\n",
              "      buttonEl.style.display =\n",
              "        google.colab.kernel.accessAllowed ? 'block' : 'none';\n",
              "\n",
              "      async function convertToInteractive(key) {\n",
              "        const element = document.querySelector('#df-49aea913-9c2d-495c-9ffd-278eb861d3eb');\n",
              "        const dataTable =\n",
              "          await google.colab.kernel.invokeFunction('convertToInteractive',\n",
              "                                                    [key], {});\n",
              "        if (!dataTable) return;\n",
              "\n",
              "        const docLinkHtml = 'Like what you see? Visit the ' +\n",
              "          '<a target=\"_blank\" href=https://colab.research.google.com/notebooks/data_table.ipynb>data table notebook</a>'\n",
              "          + ' to learn more about interactive tables.';\n",
              "        element.innerHTML = '';\n",
              "        dataTable['output_type'] = 'display_data';\n",
              "        await google.colab.output.renderOutput(dataTable, element);\n",
              "        const docLink = document.createElement('div');\n",
              "        docLink.innerHTML = docLinkHtml;\n",
              "        element.appendChild(docLink);\n",
              "      }\n",
              "    </script>\n",
              "  </div>\n",
              "\n",
              "\n",
              "    <div id=\"df-d01aae3d-d97c-4d7a-9c5f-7953f55f65b6\">\n",
              "      <button class=\"colab-df-quickchart\" onclick=\"quickchart('df-d01aae3d-d97c-4d7a-9c5f-7953f55f65b6')\"\n",
              "                title=\"Suggest charts\"\n",
              "                style=\"display:none;\">\n",
              "\n",
              "<svg xmlns=\"http://www.w3.org/2000/svg\" height=\"24px\"viewBox=\"0 0 24 24\"\n",
              "     width=\"24px\">\n",
              "    <g>\n",
              "        <path d=\"M19 3H5c-1.1 0-2 .9-2 2v14c0 1.1.9 2 2 2h14c1.1 0 2-.9 2-2V5c0-1.1-.9-2-2-2zM9 17H7v-7h2v7zm4 0h-2V7h2v10zm4 0h-2v-4h2v4z\"/>\n",
              "    </g>\n",
              "</svg>\n",
              "      </button>\n",
              "\n",
              "<style>\n",
              "  .colab-df-quickchart {\n",
              "      --bg-color: #E8F0FE;\n",
              "      --fill-color: #1967D2;\n",
              "      --hover-bg-color: #E2EBFA;\n",
              "      --hover-fill-color: #174EA6;\n",
              "      --disabled-fill-color: #AAA;\n",
              "      --disabled-bg-color: #DDD;\n",
              "  }\n",
              "\n",
              "  [theme=dark] .colab-df-quickchart {\n",
              "      --bg-color: #3B4455;\n",
              "      --fill-color: #D2E3FC;\n",
              "      --hover-bg-color: #434B5C;\n",
              "      --hover-fill-color: #FFFFFF;\n",
              "      --disabled-bg-color: #3B4455;\n",
              "      --disabled-fill-color: #666;\n",
              "  }\n",
              "\n",
              "  .colab-df-quickchart {\n",
              "    background-color: var(--bg-color);\n",
              "    border: none;\n",
              "    border-radius: 50%;\n",
              "    cursor: pointer;\n",
              "    display: none;\n",
              "    fill: var(--fill-color);\n",
              "    height: 32px;\n",
              "    padding: 0;\n",
              "    width: 32px;\n",
              "  }\n",
              "\n",
              "  .colab-df-quickchart:hover {\n",
              "    background-color: var(--hover-bg-color);\n",
              "    box-shadow: 0 1px 2px rgba(60, 64, 67, 0.3), 0 1px 3px 1px rgba(60, 64, 67, 0.15);\n",
              "    fill: var(--button-hover-fill-color);\n",
              "  }\n",
              "\n",
              "  .colab-df-quickchart-complete:disabled,\n",
              "  .colab-df-quickchart-complete:disabled:hover {\n",
              "    background-color: var(--disabled-bg-color);\n",
              "    fill: var(--disabled-fill-color);\n",
              "    box-shadow: none;\n",
              "  }\n",
              "\n",
              "  .colab-df-spinner {\n",
              "    border: 2px solid var(--fill-color);\n",
              "    border-color: transparent;\n",
              "    border-bottom-color: var(--fill-color);\n",
              "    animation:\n",
              "      spin 1s steps(1) infinite;\n",
              "  }\n",
              "\n",
              "  @keyframes spin {\n",
              "    0% {\n",
              "      border-color: transparent;\n",
              "      border-bottom-color: var(--fill-color);\n",
              "      border-left-color: var(--fill-color);\n",
              "    }\n",
              "    20% {\n",
              "      border-color: transparent;\n",
              "      border-left-color: var(--fill-color);\n",
              "      border-top-color: var(--fill-color);\n",
              "    }\n",
              "    30% {\n",
              "      border-color: transparent;\n",
              "      border-left-color: var(--fill-color);\n",
              "      border-top-color: var(--fill-color);\n",
              "      border-right-color: var(--fill-color);\n",
              "    }\n",
              "    40% {\n",
              "      border-color: transparent;\n",
              "      border-right-color: var(--fill-color);\n",
              "      border-top-color: var(--fill-color);\n",
              "    }\n",
              "    60% {\n",
              "      border-color: transparent;\n",
              "      border-right-color: var(--fill-color);\n",
              "    }\n",
              "    80% {\n",
              "      border-color: transparent;\n",
              "      border-right-color: var(--fill-color);\n",
              "      border-bottom-color: var(--fill-color);\n",
              "    }\n",
              "    90% {\n",
              "      border-color: transparent;\n",
              "      border-bottom-color: var(--fill-color);\n",
              "    }\n",
              "  }\n",
              "</style>\n",
              "\n",
              "      <script>\n",
              "        async function quickchart(key) {\n",
              "          const quickchartButtonEl =\n",
              "            document.querySelector('#' + key + ' button');\n",
              "          quickchartButtonEl.disabled = true;  // To prevent multiple clicks.\n",
              "          quickchartButtonEl.classList.add('colab-df-spinner');\n",
              "          try {\n",
              "            const charts = await google.colab.kernel.invokeFunction(\n",
              "                'suggestCharts', [key], {});\n",
              "          } catch (error) {\n",
              "            console.error('Error during call to suggestCharts:', error);\n",
              "          }\n",
              "          quickchartButtonEl.classList.remove('colab-df-spinner');\n",
              "          quickchartButtonEl.classList.add('colab-df-quickchart-complete');\n",
              "        }\n",
              "        (() => {\n",
              "          let quickchartButtonEl =\n",
              "            document.querySelector('#df-d01aae3d-d97c-4d7a-9c5f-7953f55f65b6 button');\n",
              "          quickchartButtonEl.style.display =\n",
              "            google.colab.kernel.accessAllowed ? 'block' : 'none';\n",
              "        })();\n",
              "      </script>\n",
              "    </div>\n",
              "\n",
              "    </div>\n",
              "  </div>\n"
            ],
            "application/vnd.google.colaboratory.intrinsic+json": {
              "type": "dataframe",
              "variable_name": "dataset",
              "summary": "{\n  \"name\": \"dataset\",\n  \"rows\": 27707,\n  \"fields\": [\n    {\n      \"column\": \"Name\",\n      \"properties\": {\n        \"dtype\": \"string\",\n        \"num_unique_values\": 27705,\n        \"samples\": [\n          \"JaSoN jOhNsON\",\n          \"kAthEriNE carTEr\",\n          \"mIGueL sAlInaS\"\n        ],\n        \"semantic_type\": \"\",\n        \"description\": \"\"\n      }\n    },\n    {\n      \"column\": \"Age\",\n      \"properties\": {\n        \"dtype\": \"number\",\n        \"std\": 19,\n        \"min\": 18,\n        \"max\": 85,\n        \"num_unique_values\": 68,\n        \"samples\": [\n          29,\n          63,\n          43\n        ],\n        \"semantic_type\": \"\",\n        \"description\": \"\"\n      }\n    },\n    {\n      \"column\": \"Gender\",\n      \"properties\": {\n        \"dtype\": \"category\",\n        \"num_unique_values\": 2,\n        \"samples\": [\n          \"Female\",\n          \"Male\"\n        ],\n        \"semantic_type\": \"\",\n        \"description\": \"\"\n      }\n    },\n    {\n      \"column\": \"Blood Type\",\n      \"properties\": {\n        \"dtype\": \"category\",\n        \"num_unique_values\": 8,\n        \"samples\": [\n          \"A+\",\n          \"AB-\"\n        ],\n        \"semantic_type\": \"\",\n        \"description\": \"\"\n      }\n    },\n    {\n      \"column\": \"Medical Condition\",\n      \"properties\": {\n        \"dtype\": \"category\",\n        \"num_unique_values\": 6,\n        \"samples\": [\n          \"Cancer\",\n          \"Obesity\"\n        ],\n        \"semantic_type\": \"\",\n        \"description\": \"\"\n      }\n    },\n    {\n      \"column\": \"Date of Admission\",\n      \"properties\": {\n        \"dtype\": \"object\",\n        \"num_unique_values\": 1827,\n        \"samples\": [\n          \"2022-12-24\",\n          \"2022-02-14\"\n        ],\n        \"semantic_type\": \"\",\n        \"description\": \"\"\n      }\n    },\n    {\n      \"column\": \"Doctor\",\n      \"properties\": {\n        \"dtype\": \"string\",\n        \"num_unique_values\": 24124,\n        \"samples\": [\n          \"Meghan Lane\",\n          \"Cassandra Burns\"\n        ],\n        \"semantic_type\": \"\",\n        \"description\": \"\"\n      }\n    },\n    {\n      \"column\": \"Hospital\",\n      \"properties\": {\n        \"dtype\": \"string\",\n        \"num_unique_values\": 23469,\n        \"samples\": [\n          \"Miller-Jenkins\",\n          \"Wilson-Kim\"\n        ],\n        \"semantic_type\": \"\",\n        \"description\": \"\"\n      }\n    },\n    {\n      \"column\": \"Insurance Provider\",\n      \"properties\": {\n        \"dtype\": \"category\",\n        \"num_unique_values\": 5,\n        \"samples\": [\n          \"Medicare\",\n          \"Cigna\"\n        ],\n        \"semantic_type\": \"\",\n        \"description\": \"\"\n      }\n    },\n    {\n      \"column\": \"Billing Amount\",\n      \"properties\": {\n        \"dtype\": \"number\",\n        \"std\": 14192.812521716263,\n        \"min\": -1310.2728947084124,\n        \"max\": 52271.66374715383,\n        \"num_unique_values\": 27707,\n        \"samples\": [\n          34468.359636655216,\n          47835.2177443972\n        ],\n        \"semantic_type\": \"\",\n        \"description\": \"\"\n      }\n    },\n    {\n      \"column\": \"Room Number\",\n      \"properties\": {\n        \"dtype\": \"number\",\n        \"std\": 115,\n        \"min\": 101,\n        \"max\": 500,\n        \"num_unique_values\": 400,\n        \"samples\": [\n          176,\n          146\n        ],\n        \"semantic_type\": \"\",\n        \"description\": \"\"\n      }\n    },\n    {\n      \"column\": \"Admission Type\",\n      \"properties\": {\n        \"dtype\": \"category\",\n        \"num_unique_values\": 3,\n        \"samples\": [\n          \"Urgent\",\n          \"Emergency\"\n        ],\n        \"semantic_type\": \"\",\n        \"description\": \"\"\n      }\n    },\n    {\n      \"column\": \"Discharge Date\",\n      \"properties\": {\n        \"dtype\": \"object\",\n        \"num_unique_values\": 1855,\n        \"samples\": [\n          \"2020-10-29\",\n          \"2023-05-19\"\n        ],\n        \"semantic_type\": \"\",\n        \"description\": \"\"\n      }\n    },\n    {\n      \"column\": \"Medication\",\n      \"properties\": {\n        \"dtype\": \"category\",\n        \"num_unique_values\": 5,\n        \"samples\": [\n          \"Ibuprofen\",\n          \"Lipitor\"\n        ],\n        \"semantic_type\": \"\",\n        \"description\": \"\"\n      }\n    },\n    {\n      \"column\": \"Test Results\",\n      \"properties\": {\n        \"dtype\": \"category\",\n        \"num_unique_values\": 3,\n        \"samples\": [\n          \"Normal\",\n          \"Inconclusive\"\n        ],\n        \"semantic_type\": \"\",\n        \"description\": \"\"\n      }\n    }\n  ]\n}"
            }
          },
          "metadata": {},
          "execution_count": 4
        }
      ],
      "source": [
        "dataset = pd.read_csv(\"/content/healthcare_dataset.csv\")\n",
        "dataset.head()"
      ]
    },
    {
      "cell_type": "markdown",
      "metadata": {
        "id": "mnu7Uf6hu28a"
      },
      "source": [
        "# Data Preprocessing"
      ]
    },
    {
      "cell_type": "markdown",
      "metadata": {
        "id": "Y6jFR6-Pu28b"
      },
      "source": [
        "## Basic Stats to Understand Data"
      ]
    },
    {
      "cell_type": "code",
      "execution_count": 5,
      "metadata": {
        "colab": {
          "base_uri": "https://localhost:8080/"
        },
        "id": "HOJwIr1Yu28c",
        "outputId": "cc2f6807-dcba-4bcf-e211-92ba13b0b78a"
      },
      "outputs": [
        {
          "output_type": "execute_result",
          "data": {
            "text/plain": [
              "(27707, 15)"
            ]
          },
          "metadata": {},
          "execution_count": 5
        }
      ],
      "source": [
        "dataset.shape"
      ]
    },
    {
      "cell_type": "code",
      "execution_count": 6,
      "metadata": {
        "colab": {
          "base_uri": "https://localhost:8080/"
        },
        "id": "AGBX9UXzu28d",
        "outputId": "61060acb-1d9f-4253-8c0b-67f95de94467"
      },
      "outputs": [
        {
          "output_type": "stream",
          "name": "stdout",
          "text": [
            "<class 'pandas.core.frame.DataFrame'>\n",
            "RangeIndex: 27707 entries, 0 to 27706\n",
            "Data columns (total 15 columns):\n",
            " #   Column              Non-Null Count  Dtype  \n",
            "---  ------              --------------  -----  \n",
            " 0   Name                27707 non-null  object \n",
            " 1   Age                 27707 non-null  int64  \n",
            " 2   Gender              27707 non-null  object \n",
            " 3   Blood Type          27707 non-null  object \n",
            " 4   Medical Condition   27707 non-null  object \n",
            " 5   Date of Admission   27707 non-null  object \n",
            " 6   Doctor              27707 non-null  object \n",
            " 7   Hospital            27707 non-null  object \n",
            " 8   Insurance Provider  27707 non-null  object \n",
            " 9   Billing Amount      27707 non-null  float64\n",
            " 10  Room Number         27707 non-null  int64  \n",
            " 11  Admission Type      27707 non-null  object \n",
            " 12  Discharge Date      27707 non-null  object \n",
            " 13  Medication          27707 non-null  object \n",
            " 14  Test Results        27707 non-null  object \n",
            "dtypes: float64(1), int64(2), object(12)\n",
            "memory usage: 3.2+ MB\n"
          ]
        }
      ],
      "source": [
        "dataset.info()"
      ]
    },
    {
      "cell_type": "markdown",
      "metadata": {
        "id": "R0359QPUu28f"
      },
      "source": [
        "* Necessary steps to do:\n",
        "    - Name column has to be prepared properly\n",
        "    - Data of Admission & Discharge Date has to be converted to the Date Time type."
      ]
    },
    {
      "cell_type": "code",
      "execution_count": 7,
      "metadata": {
        "colab": {
          "base_uri": "https://localhost:8080/",
          "height": 300
        },
        "id": "zbX7xp55u28f",
        "outputId": "6cb2abc4-c245-4a1e-85e4-d87463dc5e62"
      },
      "outputs": [
        {
          "output_type": "execute_result",
          "data": {
            "text/plain": [
              "                Age  Billing Amount   Room Number\n",
              "count  27707.000000    27707.000000  27707.000000\n",
              "mean      51.655755    25611.364890    300.477894\n",
              "std       19.584851    14192.812522    115.175867\n",
              "min       18.000000    -1310.272895    101.000000\n",
              "25%       35.000000    13329.331313    201.000000\n",
              "50%       52.000000    25629.326758    302.000000\n",
              "75%       69.000000    37875.345482    399.000000\n",
              "max       85.000000    52271.663747    500.000000"
            ],
            "text/html": [
              "\n",
              "  <div id=\"df-0034e719-3aa3-4cbd-adab-07233e72626d\" class=\"colab-df-container\">\n",
              "    <div>\n",
              "<style scoped>\n",
              "    .dataframe tbody tr th:only-of-type {\n",
              "        vertical-align: middle;\n",
              "    }\n",
              "\n",
              "    .dataframe tbody tr th {\n",
              "        vertical-align: top;\n",
              "    }\n",
              "\n",
              "    .dataframe thead th {\n",
              "        text-align: right;\n",
              "    }\n",
              "</style>\n",
              "<table border=\"1\" class=\"dataframe\">\n",
              "  <thead>\n",
              "    <tr style=\"text-align: right;\">\n",
              "      <th></th>\n",
              "      <th>Age</th>\n",
              "      <th>Billing Amount</th>\n",
              "      <th>Room Number</th>\n",
              "    </tr>\n",
              "  </thead>\n",
              "  <tbody>\n",
              "    <tr>\n",
              "      <th>count</th>\n",
              "      <td>27707.000000</td>\n",
              "      <td>27707.000000</td>\n",
              "      <td>27707.000000</td>\n",
              "    </tr>\n",
              "    <tr>\n",
              "      <th>mean</th>\n",
              "      <td>51.655755</td>\n",
              "      <td>25611.364890</td>\n",
              "      <td>300.477894</td>\n",
              "    </tr>\n",
              "    <tr>\n",
              "      <th>std</th>\n",
              "      <td>19.584851</td>\n",
              "      <td>14192.812522</td>\n",
              "      <td>115.175867</td>\n",
              "    </tr>\n",
              "    <tr>\n",
              "      <th>min</th>\n",
              "      <td>18.000000</td>\n",
              "      <td>-1310.272895</td>\n",
              "      <td>101.000000</td>\n",
              "    </tr>\n",
              "    <tr>\n",
              "      <th>25%</th>\n",
              "      <td>35.000000</td>\n",
              "      <td>13329.331313</td>\n",
              "      <td>201.000000</td>\n",
              "    </tr>\n",
              "    <tr>\n",
              "      <th>50%</th>\n",
              "      <td>52.000000</td>\n",
              "      <td>25629.326758</td>\n",
              "      <td>302.000000</td>\n",
              "    </tr>\n",
              "    <tr>\n",
              "      <th>75%</th>\n",
              "      <td>69.000000</td>\n",
              "      <td>37875.345482</td>\n",
              "      <td>399.000000</td>\n",
              "    </tr>\n",
              "    <tr>\n",
              "      <th>max</th>\n",
              "      <td>85.000000</td>\n",
              "      <td>52271.663747</td>\n",
              "      <td>500.000000</td>\n",
              "    </tr>\n",
              "  </tbody>\n",
              "</table>\n",
              "</div>\n",
              "    <div class=\"colab-df-buttons\">\n",
              "\n",
              "  <div class=\"colab-df-container\">\n",
              "    <button class=\"colab-df-convert\" onclick=\"convertToInteractive('df-0034e719-3aa3-4cbd-adab-07233e72626d')\"\n",
              "            title=\"Convert this dataframe to an interactive table.\"\n",
              "            style=\"display:none;\">\n",
              "\n",
              "  <svg xmlns=\"http://www.w3.org/2000/svg\" height=\"24px\" viewBox=\"0 -960 960 960\">\n",
              "    <path d=\"M120-120v-720h720v720H120Zm60-500h600v-160H180v160Zm220 220h160v-160H400v160Zm0 220h160v-160H400v160ZM180-400h160v-160H180v160Zm440 0h160v-160H620v160ZM180-180h160v-160H180v160Zm440 0h160v-160H620v160Z\"/>\n",
              "  </svg>\n",
              "    </button>\n",
              "\n",
              "  <style>\n",
              "    .colab-df-container {\n",
              "      display:flex;\n",
              "      gap: 12px;\n",
              "    }\n",
              "\n",
              "    .colab-df-convert {\n",
              "      background-color: #E8F0FE;\n",
              "      border: none;\n",
              "      border-radius: 50%;\n",
              "      cursor: pointer;\n",
              "      display: none;\n",
              "      fill: #1967D2;\n",
              "      height: 32px;\n",
              "      padding: 0 0 0 0;\n",
              "      width: 32px;\n",
              "    }\n",
              "\n",
              "    .colab-df-convert:hover {\n",
              "      background-color: #E2EBFA;\n",
              "      box-shadow: 0px 1px 2px rgba(60, 64, 67, 0.3), 0px 1px 3px 1px rgba(60, 64, 67, 0.15);\n",
              "      fill: #174EA6;\n",
              "    }\n",
              "\n",
              "    .colab-df-buttons div {\n",
              "      margin-bottom: 4px;\n",
              "    }\n",
              "\n",
              "    [theme=dark] .colab-df-convert {\n",
              "      background-color: #3B4455;\n",
              "      fill: #D2E3FC;\n",
              "    }\n",
              "\n",
              "    [theme=dark] .colab-df-convert:hover {\n",
              "      background-color: #434B5C;\n",
              "      box-shadow: 0px 1px 3px 1px rgba(0, 0, 0, 0.15);\n",
              "      filter: drop-shadow(0px 1px 2px rgba(0, 0, 0, 0.3));\n",
              "      fill: #FFFFFF;\n",
              "    }\n",
              "  </style>\n",
              "\n",
              "    <script>\n",
              "      const buttonEl =\n",
              "        document.querySelector('#df-0034e719-3aa3-4cbd-adab-07233e72626d button.colab-df-convert');\n",
              "      buttonEl.style.display =\n",
              "        google.colab.kernel.accessAllowed ? 'block' : 'none';\n",
              "\n",
              "      async function convertToInteractive(key) {\n",
              "        const element = document.querySelector('#df-0034e719-3aa3-4cbd-adab-07233e72626d');\n",
              "        const dataTable =\n",
              "          await google.colab.kernel.invokeFunction('convertToInteractive',\n",
              "                                                    [key], {});\n",
              "        if (!dataTable) return;\n",
              "\n",
              "        const docLinkHtml = 'Like what you see? Visit the ' +\n",
              "          '<a target=\"_blank\" href=https://colab.research.google.com/notebooks/data_table.ipynb>data table notebook</a>'\n",
              "          + ' to learn more about interactive tables.';\n",
              "        element.innerHTML = '';\n",
              "        dataTable['output_type'] = 'display_data';\n",
              "        await google.colab.output.renderOutput(dataTable, element);\n",
              "        const docLink = document.createElement('div');\n",
              "        docLink.innerHTML = docLinkHtml;\n",
              "        element.appendChild(docLink);\n",
              "      }\n",
              "    </script>\n",
              "  </div>\n",
              "\n",
              "\n",
              "    <div id=\"df-673fcb52-0a80-46e4-b88e-7ca819fa0d93\">\n",
              "      <button class=\"colab-df-quickchart\" onclick=\"quickchart('df-673fcb52-0a80-46e4-b88e-7ca819fa0d93')\"\n",
              "                title=\"Suggest charts\"\n",
              "                style=\"display:none;\">\n",
              "\n",
              "<svg xmlns=\"http://www.w3.org/2000/svg\" height=\"24px\"viewBox=\"0 0 24 24\"\n",
              "     width=\"24px\">\n",
              "    <g>\n",
              "        <path d=\"M19 3H5c-1.1 0-2 .9-2 2v14c0 1.1.9 2 2 2h14c1.1 0 2-.9 2-2V5c0-1.1-.9-2-2-2zM9 17H7v-7h2v7zm4 0h-2V7h2v10zm4 0h-2v-4h2v4z\"/>\n",
              "    </g>\n",
              "</svg>\n",
              "      </button>\n",
              "\n",
              "<style>\n",
              "  .colab-df-quickchart {\n",
              "      --bg-color: #E8F0FE;\n",
              "      --fill-color: #1967D2;\n",
              "      --hover-bg-color: #E2EBFA;\n",
              "      --hover-fill-color: #174EA6;\n",
              "      --disabled-fill-color: #AAA;\n",
              "      --disabled-bg-color: #DDD;\n",
              "  }\n",
              "\n",
              "  [theme=dark] .colab-df-quickchart {\n",
              "      --bg-color: #3B4455;\n",
              "      --fill-color: #D2E3FC;\n",
              "      --hover-bg-color: #434B5C;\n",
              "      --hover-fill-color: #FFFFFF;\n",
              "      --disabled-bg-color: #3B4455;\n",
              "      --disabled-fill-color: #666;\n",
              "  }\n",
              "\n",
              "  .colab-df-quickchart {\n",
              "    background-color: var(--bg-color);\n",
              "    border: none;\n",
              "    border-radius: 50%;\n",
              "    cursor: pointer;\n",
              "    display: none;\n",
              "    fill: var(--fill-color);\n",
              "    height: 32px;\n",
              "    padding: 0;\n",
              "    width: 32px;\n",
              "  }\n",
              "\n",
              "  .colab-df-quickchart:hover {\n",
              "    background-color: var(--hover-bg-color);\n",
              "    box-shadow: 0 1px 2px rgba(60, 64, 67, 0.3), 0 1px 3px 1px rgba(60, 64, 67, 0.15);\n",
              "    fill: var(--button-hover-fill-color);\n",
              "  }\n",
              "\n",
              "  .colab-df-quickchart-complete:disabled,\n",
              "  .colab-df-quickchart-complete:disabled:hover {\n",
              "    background-color: var(--disabled-bg-color);\n",
              "    fill: var(--disabled-fill-color);\n",
              "    box-shadow: none;\n",
              "  }\n",
              "\n",
              "  .colab-df-spinner {\n",
              "    border: 2px solid var(--fill-color);\n",
              "    border-color: transparent;\n",
              "    border-bottom-color: var(--fill-color);\n",
              "    animation:\n",
              "      spin 1s steps(1) infinite;\n",
              "  }\n",
              "\n",
              "  @keyframes spin {\n",
              "    0% {\n",
              "      border-color: transparent;\n",
              "      border-bottom-color: var(--fill-color);\n",
              "      border-left-color: var(--fill-color);\n",
              "    }\n",
              "    20% {\n",
              "      border-color: transparent;\n",
              "      border-left-color: var(--fill-color);\n",
              "      border-top-color: var(--fill-color);\n",
              "    }\n",
              "    30% {\n",
              "      border-color: transparent;\n",
              "      border-left-color: var(--fill-color);\n",
              "      border-top-color: var(--fill-color);\n",
              "      border-right-color: var(--fill-color);\n",
              "    }\n",
              "    40% {\n",
              "      border-color: transparent;\n",
              "      border-right-color: var(--fill-color);\n",
              "      border-top-color: var(--fill-color);\n",
              "    }\n",
              "    60% {\n",
              "      border-color: transparent;\n",
              "      border-right-color: var(--fill-color);\n",
              "    }\n",
              "    80% {\n",
              "      border-color: transparent;\n",
              "      border-right-color: var(--fill-color);\n",
              "      border-bottom-color: var(--fill-color);\n",
              "    }\n",
              "    90% {\n",
              "      border-color: transparent;\n",
              "      border-bottom-color: var(--fill-color);\n",
              "    }\n",
              "  }\n",
              "</style>\n",
              "\n",
              "      <script>\n",
              "        async function quickchart(key) {\n",
              "          const quickchartButtonEl =\n",
              "            document.querySelector('#' + key + ' button');\n",
              "          quickchartButtonEl.disabled = true;  // To prevent multiple clicks.\n",
              "          quickchartButtonEl.classList.add('colab-df-spinner');\n",
              "          try {\n",
              "            const charts = await google.colab.kernel.invokeFunction(\n",
              "                'suggestCharts', [key], {});\n",
              "          } catch (error) {\n",
              "            console.error('Error during call to suggestCharts:', error);\n",
              "          }\n",
              "          quickchartButtonEl.classList.remove('colab-df-spinner');\n",
              "          quickchartButtonEl.classList.add('colab-df-quickchart-complete');\n",
              "        }\n",
              "        (() => {\n",
              "          let quickchartButtonEl =\n",
              "            document.querySelector('#df-673fcb52-0a80-46e4-b88e-7ca819fa0d93 button');\n",
              "          quickchartButtonEl.style.display =\n",
              "            google.colab.kernel.accessAllowed ? 'block' : 'none';\n",
              "        })();\n",
              "      </script>\n",
              "    </div>\n",
              "\n",
              "    </div>\n",
              "  </div>\n"
            ],
            "application/vnd.google.colaboratory.intrinsic+json": {
              "type": "dataframe",
              "summary": "{\n  \"name\": \"dataset\",\n  \"rows\": 8,\n  \"fields\": [\n    {\n      \"column\": \"Age\",\n      \"properties\": {\n        \"dtype\": \"number\",\n        \"std\": 9779.251229611973,\n        \"min\": 18.0,\n        \"max\": 27707.0,\n        \"num_unique_values\": 8,\n        \"samples\": [\n          51.65575486339192,\n          52.0,\n          27707.0\n        ],\n        \"semantic_type\": \"\",\n        \"description\": \"\"\n      }\n    },\n    {\n      \"column\": \"Billing Amount\",\n      \"properties\": {\n        \"dtype\": \"number\",\n        \"std\": 16301.150564457246,\n        \"min\": -1310.2728947084124,\n        \"max\": 52271.66374715383,\n        \"num_unique_values\": 8,\n        \"samples\": [\n          25611.364889588596,\n          25629.32675799822,\n          27707.0\n        ],\n        \"semantic_type\": \"\",\n        \"description\": \"\"\n      }\n    },\n    {\n      \"column\": \"Room Number\",\n      \"properties\": {\n        \"dtype\": \"number\",\n        \"std\": 9699.944685780923,\n        \"min\": 101.0,\n        \"max\": 27707.0,\n        \"num_unique_values\": 8,\n        \"samples\": [\n          300.477893673079,\n          302.0,\n          27707.0\n        ],\n        \"semantic_type\": \"\",\n        \"description\": \"\"\n      }\n    }\n  ]\n}"
            }
          },
          "metadata": {},
          "execution_count": 7
        }
      ],
      "source": [
        "dataset.describe()"
      ]
    },
    {
      "cell_type": "markdown",
      "metadata": {
        "id": "ZO7bhVlFu28g"
      },
      "source": [
        "### Name Column trasformation"
      ]
    },
    {
      "cell_type": "code",
      "execution_count": 8,
      "metadata": {
        "colab": {
          "base_uri": "https://localhost:8080/",
          "height": 241
        },
        "id": "Dp8t-TL_u28g",
        "outputId": "2abab9dd-e971-470e-a90d-45c34190393b"
      },
      "outputs": [
        {
          "output_type": "execute_result",
          "data": {
            "text/plain": [
              "0    Bobby Jackson\n",
              "1     Leslie Terry\n",
              "2      Danny Smith\n",
              "3     Andrew Watts\n",
              "4    Adrienne Bell\n",
              "Name: Name, dtype: object"
            ],
            "text/html": [
              "<div>\n",
              "<style scoped>\n",
              "    .dataframe tbody tr th:only-of-type {\n",
              "        vertical-align: middle;\n",
              "    }\n",
              "\n",
              "    .dataframe tbody tr th {\n",
              "        vertical-align: top;\n",
              "    }\n",
              "\n",
              "    .dataframe thead th {\n",
              "        text-align: right;\n",
              "    }\n",
              "</style>\n",
              "<table border=\"1\" class=\"dataframe\">\n",
              "  <thead>\n",
              "    <tr style=\"text-align: right;\">\n",
              "      <th></th>\n",
              "      <th>Name</th>\n",
              "    </tr>\n",
              "  </thead>\n",
              "  <tbody>\n",
              "    <tr>\n",
              "      <th>0</th>\n",
              "      <td>Bobby Jackson</td>\n",
              "    </tr>\n",
              "    <tr>\n",
              "      <th>1</th>\n",
              "      <td>Leslie Terry</td>\n",
              "    </tr>\n",
              "    <tr>\n",
              "      <th>2</th>\n",
              "      <td>Danny Smith</td>\n",
              "    </tr>\n",
              "    <tr>\n",
              "      <th>3</th>\n",
              "      <td>Andrew Watts</td>\n",
              "    </tr>\n",
              "    <tr>\n",
              "      <th>4</th>\n",
              "      <td>Adrienne Bell</td>\n",
              "    </tr>\n",
              "  </tbody>\n",
              "</table>\n",
              "</div><br><label><b>dtype:</b> object</label>"
            ]
          },
          "metadata": {},
          "execution_count": 8
        }
      ],
      "source": [
        "def normalize_name(name):\n",
        "    return ' '.join(word.capitalize() for word in name.split())\n",
        "\n",
        "dataset['Name'] = dataset['Name'].apply(normalize_name)\n",
        "\n",
        "# Check\n",
        "dataset['Name'].head()"
      ]
    },
    {
      "cell_type": "markdown",
      "metadata": {
        "id": "6_yyEcdmu28h"
      },
      "source": [
        "### Type conversetion of Date related columns"
      ]
    },
    {
      "cell_type": "code",
      "execution_count": 9,
      "metadata": {
        "colab": {
          "base_uri": "https://localhost:8080/"
        },
        "id": "wH7TaYZ7u28h",
        "outputId": "91c686f4-7ec5-405a-8c5c-dbf4b50e64b5"
      },
      "outputs": [
        {
          "output_type": "stream",
          "name": "stdout",
          "text": [
            "<class 'pandas.core.series.Series'>\n",
            "RangeIndex: 27707 entries, 0 to 27706\n",
            "Series name: Discharge Date\n",
            "Non-Null Count  Dtype         \n",
            "--------------  -----         \n",
            "27707 non-null  datetime64[ns]\n",
            "dtypes: datetime64[ns](1)\n",
            "memory usage: 216.6 KB\n",
            "<class 'pandas.core.series.Series'>\n",
            "RangeIndex: 27707 entries, 0 to 27706\n",
            "Series name: Date of Admission\n",
            "Non-Null Count  Dtype         \n",
            "--------------  -----         \n",
            "27707 non-null  datetime64[ns]\n",
            "dtypes: datetime64[ns](1)\n",
            "memory usage: 216.6 KB\n"
          ]
        }
      ],
      "source": [
        "dataset['Date of Admission'] = pd.to_datetime(dataset['Date of Admission'])\n",
        "dataset['Discharge Date'] = pd.to_datetime(dataset['Discharge Date'])\n",
        "\n",
        "#Check\n",
        "for i in [dataset['Discharge Date'], dataset['Date of Admission']]:\n",
        "    i.info()"
      ]
    },
    {
      "cell_type": "markdown",
      "metadata": {
        "id": "l3ojLZcUu28i"
      },
      "source": [
        "## Missing Value Check"
      ]
    },
    {
      "cell_type": "code",
      "execution_count": 10,
      "metadata": {
        "colab": {
          "base_uri": "https://localhost:8080/",
          "height": 554
        },
        "id": "y_EhPH5Au28i",
        "outputId": "09dbd6fd-5333-4da9-c15f-617d735e39e3"
      },
      "outputs": [
        {
          "output_type": "execute_result",
          "data": {
            "text/plain": [
              "Name                  0\n",
              "Age                   0\n",
              "Gender                0\n",
              "Blood Type            0\n",
              "Medical Condition     0\n",
              "Date of Admission     0\n",
              "Doctor                0\n",
              "Hospital              0\n",
              "Insurance Provider    0\n",
              "Billing Amount        0\n",
              "Room Number           0\n",
              "Admission Type        0\n",
              "Discharge Date        0\n",
              "Medication            0\n",
              "Test Results          0\n",
              "dtype: int64"
            ],
            "text/html": [
              "<div>\n",
              "<style scoped>\n",
              "    .dataframe tbody tr th:only-of-type {\n",
              "        vertical-align: middle;\n",
              "    }\n",
              "\n",
              "    .dataframe tbody tr th {\n",
              "        vertical-align: top;\n",
              "    }\n",
              "\n",
              "    .dataframe thead th {\n",
              "        text-align: right;\n",
              "    }\n",
              "</style>\n",
              "<table border=\"1\" class=\"dataframe\">\n",
              "  <thead>\n",
              "    <tr style=\"text-align: right;\">\n",
              "      <th></th>\n",
              "      <th>0</th>\n",
              "    </tr>\n",
              "  </thead>\n",
              "  <tbody>\n",
              "    <tr>\n",
              "      <th>Name</th>\n",
              "      <td>0</td>\n",
              "    </tr>\n",
              "    <tr>\n",
              "      <th>Age</th>\n",
              "      <td>0</td>\n",
              "    </tr>\n",
              "    <tr>\n",
              "      <th>Gender</th>\n",
              "      <td>0</td>\n",
              "    </tr>\n",
              "    <tr>\n",
              "      <th>Blood Type</th>\n",
              "      <td>0</td>\n",
              "    </tr>\n",
              "    <tr>\n",
              "      <th>Medical Condition</th>\n",
              "      <td>0</td>\n",
              "    </tr>\n",
              "    <tr>\n",
              "      <th>Date of Admission</th>\n",
              "      <td>0</td>\n",
              "    </tr>\n",
              "    <tr>\n",
              "      <th>Doctor</th>\n",
              "      <td>0</td>\n",
              "    </tr>\n",
              "    <tr>\n",
              "      <th>Hospital</th>\n",
              "      <td>0</td>\n",
              "    </tr>\n",
              "    <tr>\n",
              "      <th>Insurance Provider</th>\n",
              "      <td>0</td>\n",
              "    </tr>\n",
              "    <tr>\n",
              "      <th>Billing Amount</th>\n",
              "      <td>0</td>\n",
              "    </tr>\n",
              "    <tr>\n",
              "      <th>Room Number</th>\n",
              "      <td>0</td>\n",
              "    </tr>\n",
              "    <tr>\n",
              "      <th>Admission Type</th>\n",
              "      <td>0</td>\n",
              "    </tr>\n",
              "    <tr>\n",
              "      <th>Discharge Date</th>\n",
              "      <td>0</td>\n",
              "    </tr>\n",
              "    <tr>\n",
              "      <th>Medication</th>\n",
              "      <td>0</td>\n",
              "    </tr>\n",
              "    <tr>\n",
              "      <th>Test Results</th>\n",
              "      <td>0</td>\n",
              "    </tr>\n",
              "  </tbody>\n",
              "</table>\n",
              "</div><br><label><b>dtype:</b> int64</label>"
            ]
          },
          "metadata": {},
          "execution_count": 10
        }
      ],
      "source": [
        "dataset.isna().sum()"
      ]
    },
    {
      "cell_type": "markdown",
      "metadata": {
        "id": "tMu1L56Cu28i"
      },
      "source": [
        "* Clear, 😉"
      ]
    },
    {
      "cell_type": "markdown",
      "metadata": {
        "id": "YBikpxiCu28j"
      },
      "source": [
        "### Data Distribution Analysis"
      ]
    },
    {
      "cell_type": "markdown",
      "metadata": {
        "id": "eVM7FLv9u28j"
      },
      "source": [
        "#### Age Feature"
      ]
    },
    {
      "cell_type": "code",
      "execution_count": 11,
      "metadata": {
        "colab": {
          "base_uri": "https://localhost:8080/",
          "height": 684
        },
        "id": "wX0GSZbNu28j",
        "outputId": "46179ad4-ea39-4d37-8d64-488da2c552f4"
      },
      "outputs": [
        {
          "output_type": "execute_result",
          "data": {
            "text/plain": [
              "Text(0.5, 1.0, 'Age Distribution')"
            ]
          },
          "metadata": {},
          "execution_count": 11
        },
        {
          "output_type": "display_data",
          "data": {
            "text/plain": [
              "<Figure size 1500x800 with 1 Axes>"
            ],
            "image/png": "[encoded data removed]"
          },
          "metadata": {}
        }
      ],
      "source": [
        "f, ax = plt.subplots(figsize=(15, 8))\n",
        "ax.bar(x = dataset['Age'].value_counts().index, height = dataset['Age'].value_counts())\n",
        "ax.set_xlabel('Age')\n",
        "ax.set_ylabel('Frequency')\n",
        "ax.set_title(\"Age Distribution\")"
      ]
    },
    {
      "cell_type": "markdown",
      "metadata": {
        "id": "2PjSMGs-u28k"
      },
      "source": [
        "#### Gender Feature"
      ]
    },
    {
      "cell_type": "code",
      "execution_count": 12,
      "metadata": {
        "colab": {
          "base_uri": "https://localhost:8080/",
          "height": 675
        },
        "id": "BQOHJHr2u28k",
        "outputId": "0003fd87-f489-4f6d-af53-219d73a87dc5"
      },
      "outputs": [
        {
          "output_type": "execute_result",
          "data": {
            "text/plain": [
              "Text(0.5, 1.0, 'Gender Distribution')"
            ]
          },
          "metadata": {},
          "execution_count": 12
        },
        {
          "output_type": "display_data",
          "data": {
            "text/plain": [
              "<Figure size 1500x800 with 1 Axes>"
            ],
            "image/png": "[encoded data removed]"
          },
          "metadata": {}
        }
      ],
      "source": [
        "f, ax = plt.subplots(figsize=(15, 8))\n",
        "ax.bar(x = dataset['Gender'].value_counts().index, height = dataset['Gender'].value_counts())\n",
        "ax.set_xlabel('Gender')\n",
        "ax.set_ylabel('Frequency')\n",
        "ax.set_title(\"Gender Distribution\")"
      ]
    },
    {
      "cell_type": "markdown",
      "metadata": {
        "id": "UJxxvZhju28l"
      },
      "source": [
        "#### Blood Type"
      ]
    },
    {
      "cell_type": "code",
      "execution_count": 13,
      "metadata": {
        "colab": {
          "base_uri": "https://localhost:8080/",
          "height": 680
        },
        "id": "rDFIrWj4u28l",
        "outputId": "7f977e33-cefc-4d78-f355-cf9f760ab995"
      },
      "outputs": [
        {
          "output_type": "execute_result",
          "data": {
            "text/plain": [
              "Text(0.5, 1.0, 'Blood Type Distribution')"
            ]
          },
          "metadata": {},
          "execution_count": 13
        },
        {
          "output_type": "display_data",
          "data": {
            "text/plain": [
              "<Figure size 1500x800 with 1 Axes>"
            ],
            "image/png": "[encoded data removed]"
          },
          "metadata": {}
        }
      ],
      "source": [
        "f, ax = plt.subplots(figsize=(15, 8))\n",
        "ax.bar(x = dataset['Blood Type'].value_counts().index, height = dataset['Blood Type'].value_counts())\n",
        "ax.set_xlabel('Blood Type')\n",
        "ax.set_ylabel('Frequency')\n",
        "ax.set_title(\"Blood Type Distribution\")"
      ]
    },
    {
      "cell_type": "markdown",
      "metadata": {
        "id": "1Gb-UNtou28m"
      },
      "source": [
        "#### Medical Condition"
      ]
    },
    {
      "cell_type": "code",
      "execution_count": 14,
      "metadata": {
        "colab": {
          "base_uri": "https://localhost:8080/",
          "height": 680
        },
        "id": "iWzTn-aku28m",
        "outputId": "43b1e331-7400-43da-f06c-a5a6b657c83b"
      },
      "outputs": [
        {
          "output_type": "execute_result",
          "data": {
            "text/plain": [
              "Text(0.5, 1.0, 'Medical Condition Distribution')"
            ]
          },
          "metadata": {},
          "execution_count": 14
        },
        {
          "output_type": "display_data",
          "data": {
            "text/plain": [
              "<Figure size 1500x800 with 1 Axes>"
            ],
            "image/png": "[encoded data removed]"
          },
          "metadata": {}
        }
      ],
      "source": [
        "f, ax = plt.subplots(figsize=(15, 8))\n",
        "ax.bar(x = dataset['Medical Condition'].value_counts().index, height = dataset['Medical Condition'].value_counts())\n",
        "ax.set_xlabel('Medical Condition')\n",
        "ax.set_ylabel('Frequency')\n",
        "ax.set_title(\"Medical Condition Distribution\")"
      ]
    },
    {
      "cell_type": "markdown",
      "metadata": {
        "id": "QHEtits1u28m"
      },
      "source": [
        "#### Doctor Feature"
      ]
    },
    {
      "cell_type": "code",
      "execution_count": 15,
      "metadata": {
        "colab": {
          "base_uri": "https://localhost:8080/"
        },
        "id": "9KKoRit-u28m",
        "outputId": "c0d7ece3-577f-426c-8953-ca8142a5cc69"
      },
      "outputs": [
        {
          "output_type": "execute_result",
          "data": {
            "text/plain": [
              "24124"
            ]
          },
          "metadata": {},
          "execution_count": 15
        }
      ],
      "source": [
        "len(dataset['Doctor'].unique())"
      ]
    },
    {
      "cell_type": "markdown",
      "metadata": {
        "id": "9Rdags8Nu28n"
      },
      "source": [
        "#### Hostpital Feature"
      ]
    },
    {
      "cell_type": "code",
      "execution_count": 16,
      "metadata": {
        "colab": {
          "base_uri": "https://localhost:8080/"
        },
        "id": "TOyLHMZuu28n",
        "outputId": "50b5d096-69d6-49f0-abff-b306d80f5207"
      },
      "outputs": [
        {
          "output_type": "execute_result",
          "data": {
            "text/plain": [
              "23469"
            ]
          },
          "metadata": {},
          "execution_count": 16
        }
      ],
      "source": [
        "len(dataset['Hospital'].unique())"
      ]
    },
    {
      "cell_type": "markdown",
      "metadata": {
        "id": "DkMawiowu28n"
      },
      "source": [
        "#### Insurance Provider Feature"
      ]
    },
    {
      "cell_type": "code",
      "execution_count": 17,
      "metadata": {
        "colab": {
          "base_uri": "https://localhost:8080/",
          "height": 680
        },
        "id": "7_VYCZH2u28o",
        "outputId": "b5609fdd-81a1-4e96-9767-965812d6e39d"
      },
      "outputs": [
        {
          "output_type": "execute_result",
          "data": {
            "text/plain": [
              "Text(0.5, 1.0, 'Insurance Provider Distribution')"
            ]
          },
          "metadata": {},
          "execution_count": 17
        },
        {
          "output_type": "display_data",
          "data": {
            "text/plain": [
              "<Figure size 1500x800 with 1 Axes>"
            ],
            "image/png": "[encoded data removed]"
          },
          "metadata": {}
        }
      ],
      "source": [
        "f, ax = plt.subplots(figsize=(15, 8))\n",
        "ax.bar(x = dataset['Insurance Provider'].value_counts().index, height = dataset['Insurance Provider'].value_counts())\n",
        "ax.set_xlabel('Insurance Provider')\n",
        "ax.set_ylabel('Frequency')\n",
        "ax.set_title(\"Insurance Provider Distribution\")"
      ]
    },
    {
      "cell_type": "markdown",
      "metadata": {
        "id": "tkReiNkgu28o"
      },
      "source": [
        "#### Room Number Feature"
      ]
    },
    {
      "cell_type": "code",
      "execution_count": 18,
      "metadata": {
        "colab": {
          "base_uri": "https://localhost:8080/"
        },
        "id": "DKO3CUwXu28p",
        "outputId": "6fb5fc24-5e36-45fe-9905-5c597491791f"
      },
      "outputs": [
        {
          "output_type": "execute_result",
          "data": {
            "text/plain": [
              "400"
            ]
          },
          "metadata": {},
          "execution_count": 18
        }
      ],
      "source": [
        "len(dataset['Room Number'].unique())"
      ]
    },
    {
      "cell_type": "markdown",
      "metadata": {
        "id": "Zq-KI9keu28p"
      },
      "source": [
        "#### Admission Type Feature"
      ]
    },
    {
      "cell_type": "code",
      "execution_count": 19,
      "metadata": {
        "colab": {
          "base_uri": "https://localhost:8080/",
          "height": 680
        },
        "id": "b0vA68XKu28q",
        "outputId": "e18c7013-3f37-49cd-b9d8-fc72a0a57819"
      },
      "outputs": [
        {
          "output_type": "execute_result",
          "data": {
            "text/plain": [
              "Text(0.5, 1.0, 'Admission Type Distribution')"
            ]
          },
          "metadata": {},
          "execution_count": 19
        },
        {
          "output_type": "display_data",
          "data": {
            "text/plain": [
              "<Figure size 1500x800 with 1 Axes>"
            ],
            "image/png": "[encoded data removed]"
          },
          "metadata": {}
        }
      ],
      "source": [
        "f, ax = plt.subplots(figsize=(15, 8))\n",
        "ax.bar(x = dataset['Admission Type'].value_counts().index, height = dataset['Admission Type'].value_counts())\n",
        "ax.set_xlabel('Admission Type')\n",
        "ax.set_ylabel('Frequency')\n",
        "ax.set_title(\"Admission Type Distribution\")"
      ]
    },
    {
      "cell_type": "markdown",
      "metadata": {
        "id": "_-x5kKQqu28q"
      },
      "source": [
        "#### Test Results Feature"
      ]
    },
    {
      "cell_type": "code",
      "execution_count": 20,
      "metadata": {
        "colab": {
          "base_uri": "https://localhost:8080/",
          "height": 680
        },
        "id": "hIMYXuxUu28r",
        "outputId": "8985bef0-4645-4801-c4cb-b0a2de84df99"
      },
      "outputs": [
        {
          "output_type": "execute_result",
          "data": {
            "text/plain": [
              "Text(0.5, 1.0, 'Test Results Distribution')"
            ]
          },
          "metadata": {},
          "execution_count": 20
        },
        {
          "output_type": "display_data",
          "data": {
            "text/plain": [
              "<Figure size 1500x800 with 1 Axes>"
            ],
            "image/png": "[encoded data removed]"
          },
          "metadata": {}
        }
      ],
      "source": [
        "f, ax = plt.subplots(figsize=(15, 8))\n",
        "ax.bar(x = dataset['Test Results'].value_counts().index, height = dataset['Test Results'].value_counts())\n",
        "ax.set_xlabel('Test Results')\n",
        "ax.set_ylabel('Frequency')\n",
        "ax.set_title(\"Test Results Distribution\")"
      ]
    },
    {
      "cell_type": "markdown",
      "metadata": {
        "id": "xEQ4k49Mu281"
      },
      "source": [
        "#### Medication Feature"
      ]
    },
    {
      "cell_type": "code",
      "execution_count": 21,
      "metadata": {
        "colab": {
          "base_uri": "https://localhost:8080/",
          "height": 680
        },
        "id": "TVwgxWs0u281",
        "outputId": "ca75260f-4d6f-45ab-901d-b9be4b3f11a0"
      },
      "outputs": [
        {
          "output_type": "execute_result",
          "data": {
            "text/plain": [
              "Text(0.5, 1.0, 'Medication Distribution')"
            ]
          },
          "metadata": {},
          "execution_count": 21
        },
        {
          "output_type": "display_data",
          "data": {
            "text/plain": [
              "<Figure size 1500x800 with 1 Axes>"
            ],
            "image/png": "[encoded data removed]"
          },
          "metadata": {}
        }
      ],
      "source": [
        "f, ax = plt.subplots(figsize=(15, 8))\n",
        "ax.bar(x = dataset['Medication'].value_counts().index, height = dataset['Medication'].value_counts())\n",
        "ax.set_xlabel('Medication')\n",
        "ax.set_ylabel('Frequency')\n",
        "ax.set_title(\"Medication Distribution\")"
      ]
    },
    {
      "cell_type": "code",
      "execution_count": 22,
      "metadata": {
        "colab": {
          "base_uri": "https://localhost:8080/",
          "height": 581
        },
        "id": "ZBlsZ-olu282",
        "outputId": "b5b984a1-b429-4207-d574-b5d8f531b37c"
      },
      "outputs": [
        {
          "output_type": "execute_result",
          "data": {
            "text/plain": [
              "Text(0.5, 1.0, 'Distribution of Test Results in each Age Group')"
            ]
          },
          "metadata": {},
          "execution_count": 22
        },
        {
          "output_type": "display_data",
          "data": {
            "text/plain": [
              "<Figure size 1000x600 with 1 Axes>"
            ],
            "image/png": "[encoded data removed]"
          },
          "metadata": {}
        }
      ],
      "source": [
        "dataset['Age Group'] = pd.cut(dataset['Age'], bins=[0, 20, 40, 60, 100], labels=['0-20', '20-40', '40-60', '61+'])\n",
        "df = dataset.groupby('Age Group')['Test Results'].agg('count')\n",
        "\n",
        "f, ax = plt.subplots(figsize=(10, 6))\n",
        "#ax.bar(x=df.index, height=df)\n",
        "sns.barplot(x=df.index, y=df, ax=ax, palette='viridis')\n",
        "ax.set_title(\"Distribution of Test Results in each Age Group\")"
      ]
    },
    {
      "cell_type": "markdown",
      "metadata": {
        "id": "V685FwtJu282"
      },
      "source": [
        "- Hastalık Türlerine Göre Ortalama Masraf Analizi:\n",
        "\n",
        "    Tıbbi durumlara göre ortalama masraf değerlerini hesaplayıp görselleştirin."
      ]
    },
    {
      "cell_type": "code",
      "execution_count": 23,
      "metadata": {
        "colab": {
          "base_uri": "https://localhost:8080/"
        },
        "id": "2x762K8Mu283",
        "outputId": "d51389fd-be15-4c79-8cf8-c10bcef900af"
      },
      "outputs": [
        {
          "output_type": "execute_result",
          "data": {
            "text/plain": [
              "Index(['Name', 'Age', 'Gender', 'Blood Type', 'Medical Condition',\n",
              "       'Date of Admission', 'Doctor', 'Hospital', 'Insurance Provider',\n",
              "       'Billing Amount', 'Room Number', 'Admission Type', 'Discharge Date',\n",
              "       'Medication', 'Test Results', 'Age Group'],\n",
              "      dtype='object')"
            ]
          },
          "metadata": {},
          "execution_count": 23
        }
      ],
      "source": [
        "dataset.columns"
      ]
    },
    {
      "cell_type": "code",
      "execution_count": 24,
      "metadata": {
        "colab": {
          "base_uri": "https://localhost:8080/",
          "height": 735
        },
        "id": "aGlDQJj-u284",
        "outputId": "e1644b5a-cb18-4ad8-a71b-5d882ca4f858"
      },
      "outputs": [
        {
          "output_type": "execute_result",
          "data": {
            "text/plain": [
              "Text(0.5, 1.0, 'Average Expense Analysis by Medical Sondition Types')"
            ]
          },
          "metadata": {},
          "execution_count": 24
        },
        {
          "output_type": "display_data",
          "data": {
            "text/plain": [
              "<Figure size 1000x800 with 1 Axes>"
            ],
            "image/png": "[encoded data removed]"
          },
          "metadata": {}
        }
      ],
      "source": [
        "df = dataset.groupby('Medical Condition')['Billing Amount'].mean()\n",
        "\n",
        "f, ax = plt.subplots(figsize=(10, 8))\n",
        "sns.barplot(x=df.index, y=df, ax=ax, palette='rocket_r')\n",
        "ax.set_title(\"Average Expense Analysis by Medical Sondition Types\")"
      ]
    },
    {
      "cell_type": "markdown",
      "metadata": {
        "id": "807un86Xu284"
      },
      "source": [
        "- Aylık Hasta Kabul Analizi:\n",
        "\n",
        "    Giriş tarihlerinden ay bilgisi çıkarılarak aylık hasta kabul yoğunluğunu analiz edin."
      ]
    },
    {
      "cell_type": "code",
      "execution_count": 25,
      "metadata": {
        "colab": {
          "base_uri": "https://localhost:8080/",
          "height": 716
        },
        "id": "s_NBnGO5u285",
        "outputId": "88af7b44-2653-4274-fb73-cf32431869af"
      },
      "outputs": [
        {
          "output_type": "execute_result",
          "data": {
            "text/plain": [
              "Text(0.5, 1.0, 'Number of Patient per Month')"
            ]
          },
          "metadata": {},
          "execution_count": 25
        },
        {
          "output_type": "display_data",
          "data": {
            "text/plain": [
              "<Figure size 1000x800 with 1 Axes>"
            ],
            "image/png": "[encoded data removed]"
          },
          "metadata": {}
        }
      ],
      "source": [
        "months=[\"January\", \"February\", \"March\", \"April\", \"May\", \"June\", \"July\", \"August\", \"September\", \"October\", \"November\", \"December\"]\n",
        "dataset['Month']=pd.to_datetime(dataset['Date of Admission']).dt.month\n",
        "monthly_counts = dataset['Month'].value_counts().sort_index()\n",
        "\n",
        "f, ax = plt.subplots(figsize=(10, 8))\n",
        "sns.barplot(x=months, y=monthly_counts, ax=ax, palette='cubehelix')\n",
        "ax.set_title(\"Number of Patient per Month\")"
      ]
    },
    {
      "cell_type": "markdown",
      "metadata": {
        "id": "BRjedpU1u285"
      },
      "source": [
        "- Sigorta Sağlayıcılarına Göre Billing Amount Dağılımı:\n",
        "\n",
        "    Sigorta şirketlerine göre farklı Billing Amount dağılımını gruplandırın."
      ]
    },
    {
      "cell_type": "code",
      "execution_count": 26,
      "metadata": {
        "colab": {
          "base_uri": "https://localhost:8080/",
          "height": 713
        },
        "id": "Fbf13jfHu286",
        "outputId": "ecf4ee19-4793-42ad-805a-2ae99cf835eb"
      },
      "outputs": [
        {
          "output_type": "execute_result",
          "data": {
            "text/plain": [
              "<Axes: xlabel='Insurance Provider', ylabel='Billing Amount'>"
            ]
          },
          "metadata": {},
          "execution_count": 26
        },
        {
          "output_type": "display_data",
          "data": {
            "text/plain": [
              "<Figure size 1000x800 with 1 Axes>"
            ],
            "image/png": "[encoded data removed]"
          },
          "metadata": {}
        }
      ],
      "source": [
        "df = dataset.groupby(['Insurance Provider', 'Gender'])['Billing Amount'].mean().reset_index().sort_values(['Insurance Provider', 'Gender'])\n",
        "\n",
        "f, ax = plt.subplots(figsize=(10, 8))\n",
        "sns.barplot(x='Insurance Provider', y='Billing Amount', hue='Gender', data=df, ax=ax, palette=\"rocket_r\")"
      ]
    },
    {
      "cell_type": "markdown",
      "metadata": {
        "id": "W8eqm7Zcu286"
      },
      "source": [
        "- Kabul Türüne Göre Hastanede Kalış Süresi Analizi:\n",
        "\n",
        "    Taburcu ve giriş tarihlerini kullanarak kalış süresini hesaplayın ve giriş türüne göre ortalamalarını karşılaştırın."
      ]
    },
    {
      "cell_type": "code",
      "execution_count": 27,
      "metadata": {
        "colab": {
          "base_uri": "https://localhost:8080/"
        },
        "id": "uv5G0b7tu286",
        "outputId": "0cc73f3c-965c-4904-b168-13c20b935b0c"
      },
      "outputs": [
        {
          "output_type": "execute_result",
          "data": {
            "text/plain": [
              "Index(['Name', 'Age', 'Gender', 'Blood Type', 'Medical Condition',\n",
              "       'Date of Admission', 'Doctor', 'Hospital', 'Insurance Provider',\n",
              "       'Billing Amount', 'Room Number', 'Admission Type', 'Discharge Date',\n",
              "       'Medication', 'Test Results', 'Age Group', 'Month'],\n",
              "      dtype='object')"
            ]
          },
          "metadata": {},
          "execution_count": 27
        }
      ],
      "source": [
        "dataset.columns"
      ]
    },
    {
      "cell_type": "code",
      "execution_count": 28,
      "metadata": {
        "colab": {
          "base_uri": "https://localhost:8080/",
          "height": 735
        },
        "id": "nMftHcSOu287",
        "outputId": "65c9a0fd-a19b-4d26-91d4-49bd03feb211"
      },
      "outputs": [
        {
          "output_type": "execute_result",
          "data": {
            "text/plain": [
              "Text(0.5, 1.0, 'Analysis of Length of Stay by Admission Type')"
            ]
          },
          "metadata": {},
          "execution_count": 28
        },
        {
          "output_type": "display_data",
          "data": {
            "text/plain": [
              "<Figure size 1000x800 with 1 Axes>"
            ],
            "image/png": "[encoded data removed]"
          },
          "metadata": {}
        }
      ],
      "source": [
        "dataset['los'] = np.subtract(dataset['Discharge Date'], dataset['Date of Admission']).dt.days\n",
        "\n",
        "df = dataset.groupby(['Admission Type'])['los'].agg('mean').reset_index().sort_values('Admission Type')\n",
        "\n",
        "f, ax = plt.subplots(figsize=(10, 8))\n",
        "sns.barplot(\n",
        "    data=df,\n",
        "    x='Admission Type',\n",
        "    y='los',\n",
        "    ax=ax,\n",
        "    palette=\"magma\"\n",
        ")\n",
        "ax.set_title(\"Analysis of Length of Stay by Admission Type\")"
      ]
    },
    {
      "cell_type": "markdown",
      "metadata": {
        "id": "m_T4rEl4u287"
      },
      "source": [
        "- Korelasyon Analizi:\n",
        "\n",
        "    Özellikler arasındaki korelasyonu analiz ederek anlamlı ilişkileri belirleyin."
      ]
    },
    {
      "cell_type": "code",
      "execution_count": 29,
      "metadata": {
        "id": "DirS20Jtu288"
      },
      "outputs": [],
      "source": [
        "dataset=dataset.drop(['Age Group', 'Month', 'los'], axis=1)"
      ]
    },
    {
      "cell_type": "code",
      "execution_count": 30,
      "metadata": {
        "colab": {
          "base_uri": "https://localhost:8080/",
          "height": 699
        },
        "id": "zeBCcTMVu288",
        "outputId": "076ebad9-c1d8-4076-e41f-b5ae300e61ad"
      },
      "outputs": [
        {
          "output_type": "execute_result",
          "data": {
            "text/plain": [
              "<Axes: >"
            ]
          },
          "metadata": {},
          "execution_count": 30
        },
        {
          "output_type": "display_data",
          "data": {
            "text/plain": [
              "<Figure size 1000x800 with 2 Axes>"
            ],
            "image/png": "[encoded data removed]"
          },
          "metadata": {}
        }
      ],
      "source": [
        "feature_corr = dataset.corr(numeric_only=True)\n",
        "\n",
        "f, ax = plt.subplots(figsize=(10, 8))\n",
        "sns.heatmap(data=feature_corr, annot=True, cmap=\"magma\")"
      ]
    },
    {
      "cell_type": "markdown",
      "metadata": {
        "id": "jL-y5iuFu28-"
      },
      "source": [
        "- Kan Gruplarına Göre Masraf Dağılımı:\n",
        "\n",
        "    Kan gruplarına göre toplam veya ortalama masrafı analiz edin."
      ]
    },
    {
      "cell_type": "code",
      "execution_count": 31,
      "metadata": {
        "colab": {
          "base_uri": "https://localhost:8080/",
          "height": 735
        },
        "id": "wUoi2QH-u28-",
        "outputId": "1064ce41-eafb-4d5d-b1ae-487c4d63d450"
      },
      "outputs": [
        {
          "output_type": "execute_result",
          "data": {
            "text/plain": [
              "Text(0.5, 1.0, 'Analysis of Blood Type by Billing Amount')"
            ]
          },
          "metadata": {},
          "execution_count": 31
        },
        {
          "output_type": "display_data",
          "data": {
            "text/plain": [
              "<Figure size 1000x800 with 1 Axes>"
            ],
            "image/png": "[encoded data removed]"
          },
          "metadata": {}
        }
      ],
      "source": [
        "df = dataset.groupby(['Blood Type'])['Billing Amount'].agg('mean').sort_values(ascending=True)\n",
        "\n",
        "f, ax = plt.subplots(figsize=(10, 8))\n",
        "sns.barplot(x=df.index, y=df.values, ax=ax, palette='crest')\n",
        "ax.set_title(\"Analysis of Blood Type by Billing Amount\")"
      ]
    },
    {
      "cell_type": "markdown",
      "metadata": {
        "id": "JpzS18YHu28_"
      },
      "source": [
        "* Billing Amount Accordig to the Blood Type per Gender"
      ]
    },
    {
      "cell_type": "code",
      "execution_count": 32,
      "metadata": {
        "colab": {
          "base_uri": "https://localhost:8080/",
          "height": 735
        },
        "id": "-WIsyY0Du28_",
        "outputId": "f5160cb1-e835-4334-c407-3d4ba2b3af55"
      },
      "outputs": [
        {
          "output_type": "execute_result",
          "data": {
            "text/plain": [
              "Text(0.5, 1.0, 'Billing Amount Accordig to the Blood Type per Gender')"
            ]
          },
          "metadata": {},
          "execution_count": 32
        },
        {
          "output_type": "display_data",
          "data": {
            "text/plain": [
              "<Figure size 1000x800 with 1 Axes>"
            ],
            "image/png": "[encoded data removed]"
          },
          "metadata": {}
        }
      ],
      "source": [
        "df = dataset.groupby(['Gender', 'Blood Type'])['Billing Amount'].agg('sum').reset_index().sort_values('Blood Type')\n",
        "\n",
        "f, ax = plt.subplots(figsize=(10, 8))\n",
        "sns.barplot(data=df, x='Blood Type', y='Billing Amount', hue='Gender', ax=ax, palette='viridis')\n",
        "ax.set_title(\"Billing Amount Accordig to the Blood Type per Gender\")"
      ]
    },
    {
      "cell_type": "markdown",
      "metadata": {
        "id": "8AQyk7jGu29A"
      },
      "source": [
        "# Feature Engineering"
      ]
    },
    {
      "cell_type": "markdown",
      "metadata": {
        "id": "qNgIis9ru29A"
      },
      "source": [
        "* Creating a new field `Admission Duration`:\n",
        "    - Instead of entrance and exit dates of patient, we can calculate Admissin Duration depending on these dates. After with that calculation, we will not need for `Date Of Admission`, `Discharge Date`, `Name`, `Doctor`, `Hospital` columns so, we can drop them. With this operation we can reduce operation cost."
      ]
    },
    {
      "cell_type": "code",
      "execution_count": 33,
      "metadata": {
        "id": "-JNkty9ju29A"
      },
      "outputs": [],
      "source": [
        "dataset['Admission Duration'] = (dataset['Discharge Date'] - dataset['Date of Admission']).dt.days\n",
        "dataset.drop(['Name', 'Doctor', 'Date of Admission', 'Discharge Date', 'Hospital', 'Room Number'], axis=1, inplace=True)"
      ]
    },
    {
      "cell_type": "markdown",
      "metadata": {
        "id": "0dm3HktUu29B"
      },
      "source": [
        "* Next we need to also convert categorical features into numerical."
      ]
    },
    {
      "cell_type": "code",
      "execution_count": 34,
      "metadata": {
        "colab": {
          "base_uri": "https://localhost:8080/"
        },
        "id": "UhQJxuKzu29B",
        "outputId": "ca21bc8b-dfac-451c-8dca-132aae3958e7"
      },
      "outputs": [
        {
          "output_type": "execute_result",
          "data": {
            "text/plain": [
              "Index(['Age', 'Gender', 'Blood Type', 'Medical Condition',\n",
              "       'Insurance Provider', 'Billing Amount', 'Admission Type', 'Medication',\n",
              "       'Test Results', 'Admission Duration'],\n",
              "      dtype='object')"
            ]
          },
          "metadata": {},
          "execution_count": 34
        }
      ],
      "source": [
        "dataset.columns"
      ]
    },
    {
      "cell_type": "code",
      "execution_count": 35,
      "metadata": {
        "id": "2TsQRmg2u29C"
      },
      "outputs": [],
      "source": [
        "from sklearn.preprocessing import LabelEncoder\n",
        "label_encoder = LabelEncoder()\n",
        "dataset['Gender'] = label_encoder.fit_transform(dataset['Gender'])\n",
        "dataset['Blood Type'] = label_encoder.fit_transform(dataset['Blood Type'])\n",
        "dataset['Medical Condition'] = label_encoder.fit_transform(dataset['Medical Condition'])\n",
        "dataset['Insurance Provider'] = label_encoder.fit_transform(dataset['Insurance Provider'])\n",
        "dataset['Admission Type'] = label_encoder.fit_transform(dataset['Admission Type'])\n",
        "dataset['Medication'] = label_encoder.fit_transform(dataset['Medication'])\n",
        "dataset['Test Results'] = label_encoder.fit_transform(dataset['Test Results'])"
      ]
    },
    {
      "cell_type": "code",
      "execution_count": 36,
      "metadata": {
        "id": "yQVh39jIu29C"
      },
      "outputs": [],
      "source": [
        "#dataset['Gender'] = dataset['Gender'].map({'Male': 1, 'Female': 0})\n",
        "#dataset['Test Results'] = dataset['Test Results'].map({'Normal': 0, 'Abnormal': 1, 'Inconclusive': 2})"
      ]
    },
    {
      "cell_type": "code",
      "execution_count": 37,
      "metadata": {
        "id": "eXGnlK63u29C"
      },
      "outputs": [],
      "source": [
        "# dataset = pd.get_dummies(\n",
        "    # dataset,\n",
        "    # columns=[\n",
        "        # 'Gender',\n",
        "        # 'Medication',\n",
        "        # 'Blood Type',\n",
        "        # 'Admission Type',\n",
        "        # 'Medical Condition',\n",
        "        # 'Insurance Provider'\n",
        "    # ],\n",
        "    # drop_first=True\n",
        "# )"
      ]
    },
    {
      "cell_type": "markdown",
      "metadata": {
        "id": "3GSvHQLbu29D"
      },
      "source": [
        "## Feature Scaling"
      ]
    },
    {
      "cell_type": "code",
      "execution_count": 38,
      "metadata": {
        "colab": {
          "base_uri": "https://localhost:8080/",
          "height": 224
        },
        "id": "ytOv7qCju29D",
        "outputId": "242d3236-11ca-4554-a12f-fa2522383df8"
      },
      "outputs": [
        {
          "output_type": "execute_result",
          "data": {
            "text/plain": [
              "        Age  Gender  Blood Type  Medical Condition  Insurance Provider  \\\n",
              "0 -1.105760       1           5                  2                   1   \n",
              "1  0.528185       1           0                  5                   3   \n",
              "2  1.243036       0           1                  5                   0   \n",
              "3 -1.207882       0           6                  3                   3   \n",
              "4 -0.441970       0           2                  2                   0   \n",
              "\n",
              "   Billing Amount  Admission Type  Medication  Test Results  \\\n",
              "0       -0.475960               2           3             2   \n",
              "1        0.565928               1           1             1   \n",
              "2        0.165138               1           0             2   \n",
              "3        0.866540               0           1             0   \n",
              "4       -0.801339               2           4             0   \n",
              "\n",
              "   Admission Duration  \n",
              "0           -1.561911  \n",
              "1           -1.098717  \n",
              "2           -0.056530  \n",
              "3            1.680447  \n",
              "4            0.522462  "
            ],
            "text/html": [
              "\n",
              "  <div id=\"df-def872c5-40b2-476a-9466-49f7ca12b6f3\" class=\"colab-df-container\">\n",
              "    <div>\n",
              "<style scoped>\n",
              "    .dataframe tbody tr th:only-of-type {\n",
              "        vertical-align: middle;\n",
              "    }\n",
              "\n",
              "    .dataframe tbody tr th {\n",
              "        vertical-align: top;\n",
              "    }\n",
              "\n",
              "    .dataframe thead th {\n",
              "        text-align: right;\n",
              "    }\n",
              "</style>\n",
              "<table border=\"1\" class=\"dataframe\">\n",
              "  <thead>\n",
              "    <tr style=\"text-align: right;\">\n",
              "      <th></th>\n",
              "      <th>Age</th>\n",
              "      <th>Gender</th>\n",
              "      <th>Blood Type</th>\n",
              "      <th>Medical Condition</th>\n",
              "      <th>Insurance Provider</th>\n",
              "      <th>Billing Amount</th>\n",
              "      <th>Admission Type</th>\n",
              "      <th>Medication</th>\n",
              "      <th>Test Results</th>\n",
              "      <th>Admission Duration</th>\n",
              "    </tr>\n",
              "  </thead>\n",
              "  <tbody>\n",
              "    <tr>\n",
              "      <th>0</th>\n",
              "      <td>-1.105760</td>\n",
              "      <td>1</td>\n",
              "      <td>5</td>\n",
              "      <td>2</td>\n",
              "      <td>1</td>\n",
              "      <td>-0.475960</td>\n",
              "      <td>2</td>\n",
              "      <td>3</td>\n",
              "      <td>2</td>\n",
              "      <td>-1.561911</td>\n",
              "    </tr>\n",
              "    <tr>\n",
              "      <th>1</th>\n",
              "      <td>0.528185</td>\n",
              "      <td>1</td>\n",
              "      <td>0</td>\n",
              "      <td>5</td>\n",
              "      <td>3</td>\n",
              "      <td>0.565928</td>\n",
              "      <td>1</td>\n",
              "      <td>1</td>\n",
              "      <td>1</td>\n",
              "      <td>-1.098717</td>\n",
              "    </tr>\n",
              "    <tr>\n",
              "      <th>2</th>\n",
              "      <td>1.243036</td>\n",
              "      <td>0</td>\n",
              "      <td>1</td>\n",
              "      <td>5</td>\n",
              "      <td>0</td>\n",
              "      <td>0.165138</td>\n",
              "      <td>1</td>\n",
              "      <td>0</td>\n",
              "      <td>2</td>\n",
              "      <td>-0.056530</td>\n",
              "    </tr>\n",
              "    <tr>\n",
              "      <th>3</th>\n",
              "      <td>-1.207882</td>\n",
              "      <td>0</td>\n",
              "      <td>6</td>\n",
              "      <td>3</td>\n",
              "      <td>3</td>\n",
              "      <td>0.866540</td>\n",
              "      <td>0</td>\n",
              "      <td>1</td>\n",
              "      <td>0</td>\n",
              "      <td>1.680447</td>\n",
              "    </tr>\n",
              "    <tr>\n",
              "      <th>4</th>\n",
              "      <td>-0.441970</td>\n",
              "      <td>0</td>\n",
              "      <td>2</td>\n",
              "      <td>2</td>\n",
              "      <td>0</td>\n",
              "      <td>-0.801339</td>\n",
              "      <td>2</td>\n",
              "      <td>4</td>\n",
              "      <td>0</td>\n",
              "      <td>0.522462</td>\n",
              "    </tr>\n",
              "  </tbody>\n",
              "</table>\n",
              "</div>\n",
              "    <div class=\"colab-df-buttons\">\n",
              "\n",
              "  <div class=\"colab-df-container\">\n",
              "    <button class=\"colab-df-convert\" onclick=\"convertToInteractive('df-def872c5-40b2-476a-9466-49f7ca12b6f3')\"\n",
              "            title=\"Convert this dataframe to an interactive table.\"\n",
              "            style=\"display:none;\">\n",
              "\n",
              "  <svg xmlns=\"http://www.w3.org/2000/svg\" height=\"24px\" viewBox=\"0 -960 960 960\">\n",
              "    <path d=\"M120-120v-720h720v720H120Zm60-500h600v-160H180v160Zm220 220h160v-160H400v160Zm0 220h160v-160H400v160ZM180-400h160v-160H180v160Zm440 0h160v-160H620v160ZM180-180h160v-160H180v160Zm440 0h160v-160H620v160Z\"/>\n",
              "  </svg>\n",
              "    </button>\n",
              "\n",
              "  <style>\n",
              "    .colab-df-container {\n",
              "      display:flex;\n",
              "      gap: 12px;\n",
              "    }\n",
              "\n",
              "    .colab-df-convert {\n",
              "      background-color: #E8F0FE;\n",
              "      border: none;\n",
              "      border-radius: 50%;\n",
              "      cursor: pointer;\n",
              "      display: none;\n",
              "      fill: #1967D2;\n",
              "      height: 32px;\n",
              "      padding: 0 0 0 0;\n",
              "      width: 32px;\n",
              "    }\n",
              "\n",
              "    .colab-df-convert:hover {\n",
              "      background-color: #E2EBFA;\n",
              "      box-shadow: 0px 1px 2px rgba(60, 64, 67, 0.3), 0px 1px 3px 1px rgba(60, 64, 67, 0.15);\n",
              "      fill: #174EA6;\n",
              "    }\n",
              "\n",
              "    .colab-df-buttons div {\n",
              "      margin-bottom: 4px;\n",
              "    }\n",
              "\n",
              "    [theme=dark] .colab-df-convert {\n",
              "      background-color: #3B4455;\n",
              "      fill: #D2E3FC;\n",
              "    }\n",
              "\n",
              "    [theme=dark] .colab-df-convert:hover {\n",
              "      background-color: #434B5C;\n",
              "      box-shadow: 0px 1px 3px 1px rgba(0, 0, 0, 0.15);\n",
              "      filter: drop-shadow(0px 1px 2px rgba(0, 0, 0, 0.3));\n",
              "      fill: #FFFFFF;\n",
              "    }\n",
              "  </style>\n",
              "\n",
              "    <script>\n",
              "      const buttonEl =\n",
              "        document.querySelector('#df-def872c5-40b2-476a-9466-49f7ca12b6f3 button.colab-df-convert');\n",
              "      buttonEl.style.display =\n",
              "        google.colab.kernel.accessAllowed ? 'block' : 'none';\n",
              "\n",
              "      async function convertToInteractive(key) {\n",
              "        const element = document.querySelector('#df-def872c5-40b2-476a-9466-49f7ca12b6f3');\n",
              "        const dataTable =\n",
              "          await google.colab.kernel.invokeFunction('convertToInteractive',\n",
              "                                                    [key], {});\n",
              "        if (!dataTable) return;\n",
              "\n",
              "        const docLinkHtml = 'Like what you see? Visit the ' +\n",
              "          '<a target=\"_blank\" href=https://colab.research.google.com/notebooks/data_table.ipynb>data table notebook</a>'\n",
              "          + ' to learn more about interactive tables.';\n",
              "        element.innerHTML = '';\n",
              "        dataTable['output_type'] = 'display_data';\n",
              "        await google.colab.output.renderOutput(dataTable, element);\n",
              "        const docLink = document.createElement('div');\n",
              "        docLink.innerHTML = docLinkHtml;\n",
              "        element.appendChild(docLink);\n",
              "      }\n",
              "    </script>\n",
              "  </div>\n",
              "\n",
              "\n",
              "    <div id=\"df-3ccee5f8-5061-4182-9e0e-0bb89baf8a3f\">\n",
              "      <button class=\"colab-df-quickchart\" onclick=\"quickchart('df-3ccee5f8-5061-4182-9e0e-0bb89baf8a3f')\"\n",
              "                title=\"Suggest charts\"\n",
              "                style=\"display:none;\">\n",
              "\n",
              "<svg xmlns=\"http://www.w3.org/2000/svg\" height=\"24px\"viewBox=\"0 0 24 24\"\n",
              "     width=\"24px\">\n",
              "    <g>\n",
              "        <path d=\"M19 3H5c-1.1 0-2 .9-2 2v14c0 1.1.9 2 2 2h14c1.1 0 2-.9 2-2V5c0-1.1-.9-2-2-2zM9 17H7v-7h2v7zm4 0h-2V7h2v10zm4 0h-2v-4h2v4z\"/>\n",
              "    </g>\n",
              "</svg>\n",
              "      </button>\n",
              "\n",
              "<style>\n",
              "  .colab-df-quickchart {\n",
              "      --bg-color: #E8F0FE;\n",
              "      --fill-color: #1967D2;\n",
              "      --hover-bg-color: #E2EBFA;\n",
              "      --hover-fill-color: #174EA6;\n",
              "      --disabled-fill-color: #AAA;\n",
              "      --disabled-bg-color: #DDD;\n",
              "  }\n",
              "\n",
              "  [theme=dark] .colab-df-quickchart {\n",
              "      --bg-color: #3B4455;\n",
              "      --fill-color: #D2E3FC;\n",
              "      --hover-bg-color: #434B5C;\n",
              "      --hover-fill-color: #FFFFFF;\n",
              "      --disabled-bg-color: #3B4455;\n",
              "      --disabled-fill-color: #666;\n",
              "  }\n",
              "\n",
              "  .colab-df-quickchart {\n",
              "    background-color: var(--bg-color);\n",
              "    border: none;\n",
              "    border-radius: 50%;\n",
              "    cursor: pointer;\n",
              "    display: none;\n",
              "    fill: var(--fill-color);\n",
              "    height: 32px;\n",
              "    padding: 0;\n",
              "    width: 32px;\n",
              "  }\n",
              "\n",
              "  .colab-df-quickchart:hover {\n",
              "    background-color: var(--hover-bg-color);\n",
              "    box-shadow: 0 1px 2px rgba(60, 64, 67, 0.3), 0 1px 3px 1px rgba(60, 64, 67, 0.15);\n",
              "    fill: var(--button-hover-fill-color);\n",
              "  }\n",
              "\n",
              "  .colab-df-quickchart-complete:disabled,\n",
              "  .colab-df-quickchart-complete:disabled:hover {\n",
              "    background-color: var(--disabled-bg-color);\n",
              "    fill: var(--disabled-fill-color);\n",
              "    box-shadow: none;\n",
              "  }\n",
              "\n",
              "  .colab-df-spinner {\n",
              "    border: 2px solid var(--fill-color);\n",
              "    border-color: transparent;\n",
              "    border-bottom-color: var(--fill-color);\n",
              "    animation:\n",
              "      spin 1s steps(1) infinite;\n",
              "  }\n",
              "\n",
              "  @keyframes spin {\n",
              "    0% {\n",
              "      border-color: transparent;\n",
              "      border-bottom-color: var(--fill-color);\n",
              "      border-left-color: var(--fill-color);\n",
              "    }\n",
              "    20% {\n",
              "      border-color: transparent;\n",
              "      border-left-color: var(--fill-color);\n",
              "      border-top-color: var(--fill-color);\n",
              "    }\n",
              "    30% {\n",
              "      border-color: transparent;\n",
              "      border-left-color: var(--fill-color);\n",
              "      border-top-color: var(--fill-color);\n",
              "      border-right-color: var(--fill-color);\n",
              "    }\n",
              "    40% {\n",
              "      border-color: transparent;\n",
              "      border-right-color: var(--fill-color);\n",
              "      border-top-color: var(--fill-color);\n",
              "    }\n",
              "    60% {\n",
              "      border-color: transparent;\n",
              "      border-right-color: var(--fill-color);\n",
              "    }\n",
              "    80% {\n",
              "      border-color: transparent;\n",
              "      border-right-color: var(--fill-color);\n",
              "      border-bottom-color: var(--fill-color);\n",
              "    }\n",
              "    90% {\n",
              "      border-color: transparent;\n",
              "      border-bottom-color: var(--fill-color);\n",
              "    }\n",
              "  }\n",
              "</style>\n",
              "\n",
              "      <script>\n",
              "        async function quickchart(key) {\n",
              "          const quickchartButtonEl =\n",
              "            document.querySelector('#' + key + ' button');\n",
              "          quickchartButtonEl.disabled = true;  // To prevent multiple clicks.\n",
              "          quickchartButtonEl.classList.add('colab-df-spinner');\n",
              "          try {\n",
              "            const charts = await google.colab.kernel.invokeFunction(\n",
              "                'suggestCharts', [key], {});\n",
              "          } catch (error) {\n",
              "            console.error('Error during call to suggestCharts:', error);\n",
              "          }\n",
              "          quickchartButtonEl.classList.remove('colab-df-spinner');\n",
              "          quickchartButtonEl.classList.add('colab-df-quickchart-complete');\n",
              "        }\n",
              "        (() => {\n",
              "          let quickchartButtonEl =\n",
              "            document.querySelector('#df-3ccee5f8-5061-4182-9e0e-0bb89baf8a3f button');\n",
              "          quickchartButtonEl.style.display =\n",
              "            google.colab.kernel.accessAllowed ? 'block' : 'none';\n",
              "        })();\n",
              "      </script>\n",
              "    </div>\n",
              "\n",
              "    </div>\n",
              "  </div>\n"
            ],
            "application/vnd.google.colaboratory.intrinsic+json": {
              "type": "dataframe",
              "variable_name": "dataset",
              "summary": "{\n  \"name\": \"dataset\",\n  \"rows\": 27707,\n  \"fields\": [\n    {\n      \"column\": \"Age\",\n      \"properties\": {\n        \"dtype\": \"number\",\n        \"std\": 1.0000180464696733,\n        \"min\": -1.7184895547587533,\n        \"max\": 1.7025836208744398,\n        \"num_unique_values\": 68,\n        \"samples\": [\n          -1.1568208244309157,\n          0.5792461602187644,\n          -0.4419697131045769\n        ],\n        \"semantic_type\": \"\",\n        \"description\": \"\"\n      }\n    },\n    {\n      \"column\": \"Gender\",\n      \"properties\": {\n        \"dtype\": \"number\",\n        \"std\": 0,\n        \"min\": 0,\n        \"max\": 1,\n        \"num_unique_values\": 2,\n        \"samples\": [\n          0,\n          1\n        ],\n        \"semantic_type\": \"\",\n        \"description\": \"\"\n      }\n    },\n    {\n      \"column\": \"Blood Type\",\n      \"properties\": {\n        \"dtype\": \"number\",\n        \"std\": 2,\n        \"min\": 0,\n        \"max\": 7,\n        \"num_unique_values\": 8,\n        \"samples\": [\n          0,\n          3\n        ],\n        \"semantic_type\": \"\",\n        \"description\": \"\"\n      }\n    },\n    {\n      \"column\": \"Medical Condition\",\n      \"properties\": {\n        \"dtype\": \"number\",\n        \"std\": 1,\n        \"min\": 0,\n        \"max\": 5,\n        \"num_unique_values\": 6,\n        \"samples\": [\n          2,\n          5\n        ],\n        \"semantic_type\": \"\",\n        \"description\": \"\"\n      }\n    },\n    {\n      \"column\": \"Insurance Provider\",\n      \"properties\": {\n        \"dtype\": \"number\",\n        \"std\": 1,\n        \"min\": 0,\n        \"max\": 4,\n        \"num_unique_values\": 5,\n        \"samples\": [\n          3,\n          2\n        ],\n        \"semantic_type\": \"\",\n        \"description\": \"\"\n      }\n    },\n    {\n      \"column\": \"Billing Amount\",\n      \"properties\": {\n        \"dtype\": \"number\",\n        \"std\": 1.0000180464696617,\n        \"min\": -1.8968843267409619,\n        \"max\": 1.8784705245028985,\n        \"num_unique_values\": 27707,\n        \"samples\": [\n          0.6240591546602449,\n          1.565880890971382\n        ],\n        \"semantic_type\": \"\",\n        \"description\": \"\"\n      }\n    },\n    {\n      \"column\": \"Admission Type\",\n      \"properties\": {\n        \"dtype\": \"number\",\n        \"std\": 0,\n        \"min\": 0,\n        \"max\": 2,\n        \"num_unique_values\": 3,\n        \"samples\": [\n          2,\n          1\n        ],\n        \"semantic_type\": \"\",\n        \"description\": \"\"\n      }\n    },\n    {\n      \"column\": \"Medication\",\n      \"properties\": {\n        \"dtype\": \"number\",\n        \"std\": 1,\n        \"min\": 0,\n        \"max\": 4,\n        \"num_unique_values\": 5,\n        \"samples\": [\n          1,\n          2\n        ],\n        \"semantic_type\": \"\",\n        \"description\": \"\"\n      }\n    },\n    {\n      \"column\": \"Test Results\",\n      \"properties\": {\n        \"dtype\": \"number\",\n        \"std\": 0,\n        \"min\": 0,\n        \"max\": 2,\n        \"num_unique_values\": 3,\n        \"samples\": [\n          2,\n          1\n        ],\n        \"semantic_type\": \"\",\n        \"description\": \"\"\n      }\n    },\n    {\n      \"column\": \"Admission Duration\",\n      \"properties\": {\n        \"dtype\": \"number\",\n        \"std\": 1.0000180464697022,\n        \"min\": -1.6777090057539192,\n        \"max\": 1.6804465087402098,\n        \"num_unique_values\": 30,\n        \"samples\": [\n          0.2908649165357427,\n          1.1014541786550152\n        ],\n        \"semantic_type\": \"\",\n        \"description\": \"\"\n      }\n    }\n  ]\n}"
            }
          },
          "metadata": {},
          "execution_count": 38
        }
      ],
      "source": [
        "from sklearn.preprocessing import StandardScaler\n",
        "scaler = StandardScaler()\n",
        "dataset[['Age', 'Billing Amount', 'Admission Duration']] = scaler.fit_transform(dataset[['Age', 'Billing Amount', 'Admission Duration']])\n",
        "dataset.head()"
      ]
    },
    {
      "cell_type": "markdown",
      "metadata": {
        "id": "BVgMDBmuu29D"
      },
      "source": [
        "# Modeling"
      ]
    },
    {
      "cell_type": "markdown",
      "metadata": {
        "id": "miWxaCPbu29E"
      },
      "source": [
        "## Base Model: Logistic Regression"
      ]
    },
    {
      "cell_type": "markdown",
      "metadata": {
        "id": "jL78-Gylu29E"
      },
      "source": [
        "* Train - Test Split"
      ]
    },
    {
      "cell_type": "code",
      "execution_count": 39,
      "metadata": {
        "colab": {
          "base_uri": "https://localhost:8080/"
        },
        "id": "CuSeo8I-u29E",
        "outputId": "f71351b6-0e8c-40e4-e83b-49d135cc9890"
      },
      "outputs": [
        {
          "output_type": "stream",
          "name": "stdout",
          "text": [
            "(20780, 9)\n",
            "(6927, 9)\n",
            "(20780,)\n",
            "(6927,)\n"
          ]
        }
      ],
      "source": [
        "from sklearn.model_selection import train_test_split\n",
        "\n",
        "X = dataset.drop(columns=['Test Results'])\n",
        "y = dataset['Test Results']\n",
        "\n",
        "X_train, X_test, y_train, y_test = train_test_split(X, y, test_size=0.25, random_state=42)\n",
        "\n",
        "print(X_train.shape)\n",
        "print(X_test.shape)\n",
        "print(y_train.shape)\n",
        "print(y_test.shape)"
      ]
    },
    {
      "cell_type": "code",
      "execution_count": 40,
      "metadata": {
        "colab": {
          "base_uri": "https://localhost:8080/",
          "height": 539
        },
        "id": "UHRuLkhWu29F",
        "outputId": "ee5d3797-b42a-419a-9d2a-37b3c1bc55e5"
      },
      "outputs": [
        {
          "output_type": "execute_result",
          "data": {
            "text/plain": [
              "<BarContainer object of 9 artists>"
            ]
          },
          "metadata": {},
          "execution_count": 40
        },
        {
          "output_type": "display_data",
          "data": {
            "text/plain": [
              "<Figure size 1000x600 with 1 Axes>"
            ],
            "image/png": "[encoded data removed]"
          },
          "metadata": {}
        }
      ],
      "source": [
        "from sklearn.ensemble import RandomForestClassifier\n",
        "\n",
        "model = RandomForestClassifier(random_state=42)\n",
        "model.fit(X_train, y_train)\n",
        "\n",
        "# Önem derecesini görselleştirin\n",
        "feature_importances = model.feature_importances_\n",
        "plt.figure(figsize=(10, 6))\n",
        "plt.barh(X.columns, feature_importances)"
      ]
    },
    {
      "cell_type": "markdown",
      "metadata": {
        "id": "gjQH8tnMu29G"
      },
      "source": [
        "* `Base Model = Logistic Regression`"
      ]
    },
    {
      "cell_type": "code",
      "execution_count": 41,
      "metadata": {
        "colab": {
          "base_uri": "https://localhost:8080/",
          "height": 80
        },
        "id": "P-yVQJTru29G",
        "outputId": "a827c154-c3e6-493e-dc7b-136b6441cdd9"
      },
      "outputs": [
        {
          "output_type": "execute_result",
          "data": {
            "text/plain": [
              "LogisticRegression(max_iter=500, multi_class='multinomial')"
            ],
            "text/html": [
              "<style>#sk-container-id-1 {\n",
              "  /* Definition of color scheme common for light and dark mode */\n",
              "  --sklearn-color-text: #000;\n",
              "  --sklearn-color-text-muted: #666;\n",
              "  --sklearn-color-line: gray;\n",
              "  /* Definition of color scheme for unfitted estimators */\n",
              "  --sklearn-color-unfitted-level-0: #fff5e6;\n",
              "  --sklearn-color-unfitted-level-1: #f6e4d2;\n",
              "  --sklearn-color-unfitted-level-2: #ffe0b3;\n",
              "  --sklearn-color-unfitted-level-3: chocolate;\n",
              "  /* Definition of color scheme for fitted estimators */\n",
              "  --sklearn-color-fitted-level-0: #f0f8ff;\n",
              "  --sklearn-color-fitted-level-1: #d4ebff;\n",
              "  --sklearn-color-fitted-level-2: #b3dbfd;\n",
              "  --sklearn-color-fitted-level-3: cornflowerblue;\n",
              "\n",
              "  /* Specific color for light theme */\n",
              "  --sklearn-color-text-on-default-background: var(--sg-text-color, var(--theme-code-foreground, var(--jp-content-font-color1, black)));\n",
              "  --sklearn-color-background: var(--sg-background-color, var(--theme-background, var(--jp-layout-color0, white)));\n",
              "  --sklearn-color-border-box: var(--sg-text-color, var(--theme-code-foreground, var(--jp-content-font-color1, black)));\n",
              "  --sklearn-color-icon: #696969;\n",
              "\n",
              "  @media (prefers-color-scheme: dark) {\n",
              "    /* Redefinition of color scheme for dark theme */\n",
              "    --sklearn-color-text-on-default-background: var(--sg-text-color, var(--theme-code-foreground, var(--jp-content-font-color1, white)));\n",
              "    --sklearn-color-background: var(--sg-background-color, var(--theme-background, var(--jp-layout-color0, #111)));\n",
              "    --sklearn-color-border-box: var(--sg-text-color, var(--theme-code-foreground, var(--jp-content-font-color1, white)));\n",
              "    --sklearn-color-icon: #878787;\n",
              "  }\n",
              "}\n",
              "\n",
              "#sk-container-id-1 {\n",
              "  color: var(--sklearn-color-text);\n",
              "}\n",
              "\n",
              "#sk-container-id-1 pre {\n",
              "  padding: 0;\n",
              "}\n",
              "\n",
              "#sk-container-id-1 input.sk-hidden--visually {\n",
              "  border: 0;\n",
              "  clip: rect(1px 1px 1px 1px);\n",
              "  clip: rect(1px, 1px, 1px, 1px);\n",
              "  height: 1px;\n",
              "  margin: -1px;\n",
              "  overflow: hidden;\n",
              "  padding: 0;\n",
              "  position: absolute;\n",
              "  width: 1px;\n",
              "}\n",
              "\n",
              "#sk-container-id-1 div.sk-dashed-wrapped {\n",
              "  border: 1px dashed var(--sklearn-color-line);\n",
              "  margin: 0 0.4em 0.5em 0.4em;\n",
              "  box-sizing: border-box;\n",
              "  padding-bottom: 0.4em;\n",
              "  background-color: var(--sklearn-color-background);\n",
              "}\n",
              "\n",
              "#sk-container-id-1 div.sk-container {\n",
              "  /* jupyter's `normalize.less` sets `[hidden] { display: none; }`\n",
              "     but bootstrap.min.css set `[hidden] { display: none !important; }`\n",
              "     so we also need the `!important` here to be able to override the\n",
              "     default hidden behavior on the sphinx rendered scikit-learn.org.\n",
              "     See: https://github.com/scikit-learn/scikit-learn/issues/21755 */\n",
              "  display: inline-block !important;\n",
              "  position: relative;\n",
              "}\n",
              "\n",
              "#sk-container-id-1 div.sk-text-repr-fallback {\n",
              "  display: none;\n",
              "}\n",
              "\n",
              "div.sk-parallel-item,\n",
              "div.sk-serial,\n",
              "div.sk-item {\n",
              "  /* draw centered vertical line to link estimators */\n",
              "  background-image: linear-gradient(var(--sklearn-color-text-on-default-background), var(--sklearn-color-text-on-default-background));\n",
              "  background-size: 2px 100%;\n",
              "  background-repeat: no-repeat;\n",
              "  background-position: center center;\n",
              "}\n",
              "\n",
              "/* Parallel-specific style estimator block */\n",
              "\n",
              "#sk-container-id-1 div.sk-parallel-item::after {\n",
              "  content: \"\";\n",
              "  width: 100%;\n",
              "  border-bottom: 2px solid var(--sklearn-color-text-on-default-background);\n",
              "  flex-grow: 1;\n",
              "}\n",
              "\n",
              "#sk-container-id-1 div.sk-parallel {\n",
              "  display: flex;\n",
              "  align-items: stretch;\n",
              "  justify-content: center;\n",
              "  background-color: var(--sklearn-color-background);\n",
              "  position: relative;\n",
              "}\n",
              "\n",
              "#sk-container-id-1 div.sk-parallel-item {\n",
              "  display: flex;\n",
              "  flex-direction: column;\n",
              "}\n",
              "\n",
              "#sk-container-id-1 div.sk-parallel-item:first-child::after {\n",
              "  align-self: flex-end;\n",
              "  width: 50%;\n",
              "}\n",
              "\n",
              "#sk-container-id-1 div.sk-parallel-item:last-child::after {\n",
              "  align-self: flex-start;\n",
              "  width: 50%;\n",
              "}\n",
              "\n",
              "#sk-container-id-1 div.sk-parallel-item:only-child::after {\n",
              "  width: 0;\n",
              "}\n",
              "\n",
              "/* Serial-specific style estimator block */\n",
              "\n",
              "#sk-container-id-1 div.sk-serial {\n",
              "  display: flex;\n",
              "  flex-direction: column;\n",
              "  align-items: center;\n",
              "  background-color: var(--sklearn-color-background);\n",
              "  padding-right: 1em;\n",
              "  padding-left: 1em;\n",
              "}\n",
              "\n",
              "\n",
              "/* Toggleable style: style used for estimator/Pipeline/ColumnTransformer box that is\n",
              "clickable and can be expanded/collapsed.\n",
              "- Pipeline and ColumnTransformer use this feature and define the default style\n",
              "- Estimators will overwrite some part of the style using the `sk-estimator` class\n",
              "*/\n",
              "\n",
              "/* Pipeline and ColumnTransformer style (default) */\n",
              "\n",
              "#sk-container-id-1 div.sk-toggleable {\n",
              "  /* Default theme specific background. It is overwritten whether we have a\n",
              "  specific estimator or a Pipeline/ColumnTransformer */\n",
              "  background-color: var(--sklearn-color-background);\n",
              "}\n",
              "\n",
              "/* Toggleable label */\n",
              "#sk-container-id-1 label.sk-toggleable__label {\n",
              "  cursor: pointer;\n",
              "  display: flex;\n",
              "  width: 100%;\n",
              "  margin-bottom: 0;\n",
              "  padding: 0.5em;\n",
              "  box-sizing: border-box;\n",
              "  text-align: center;\n",
              "  align-items: start;\n",
              "  justify-content: space-between;\n",
              "  gap: 0.5em;\n",
              "}\n",
              "\n",
              "#sk-container-id-1 label.sk-toggleable__label .caption {\n",
              "  font-size: 0.6rem;\n",
              "  font-weight: lighter;\n",
              "  color: var(--sklearn-color-text-muted);\n",
              "}\n",
              "\n",
              "#sk-container-id-1 label.sk-toggleable__label-arrow:before {\n",
              "  /* Arrow on the left of the label */\n",
              "  content: \"▸\";\n",
              "  float: left;\n",
              "  margin-right: 0.25em;\n",
              "  color: var(--sklearn-color-icon);\n",
              "}\n",
              "\n",
              "#sk-container-id-1 label.sk-toggleable__label-arrow:hover:before {\n",
              "  color: var(--sklearn-color-text);\n",
              "}\n",
              "\n",
              "/* Toggleable content - dropdown */\n",
              "\n",
              "#sk-container-id-1 div.sk-toggleable__content {\n",
              "  max-height: 0;\n",
              "  max-width: 0;\n",
              "  overflow: hidden;\n",
              "  text-align: left;\n",
              "  /* unfitted */\n",
              "  background-color: var(--sklearn-color-unfitted-level-0);\n",
              "}\n",
              "\n",
              "#sk-container-id-1 div.sk-toggleable__content.fitted {\n",
              "  /* fitted */\n",
              "  background-color: var(--sklearn-color-fitted-level-0);\n",
              "}\n",
              "\n",
              "#sk-container-id-1 div.sk-toggleable__content pre {\n",
              "  margin: 0.2em;\n",
              "  border-radius: 0.25em;\n",
              "  color: var(--sklearn-color-text);\n",
              "  /* unfitted */\n",
              "  background-color: var(--sklearn-color-unfitted-level-0);\n",
              "}\n",
              "\n",
              "#sk-container-id-1 div.sk-toggleable__content.fitted pre {\n",
              "  /* unfitted */\n",
              "  background-color: var(--sklearn-color-fitted-level-0);\n",
              "}\n",
              "\n",
              "#sk-container-id-1 input.sk-toggleable__control:checked~div.sk-toggleable__content {\n",
              "  /* Expand drop-down */\n",
              "  max-height: 200px;\n",
              "  max-width: 100%;\n",
              "  overflow: auto;\n",
              "}\n",
              "\n",
              "#sk-container-id-1 input.sk-toggleable__control:checked~label.sk-toggleable__label-arrow:before {\n",
              "  content: \"▾\";\n",
              "}\n",
              "\n",
              "/* Pipeline/ColumnTransformer-specific style */\n",
              "\n",
              "#sk-container-id-1 div.sk-label input.sk-toggleable__control:checked~label.sk-toggleable__label {\n",
              "  color: var(--sklearn-color-text);\n",
              "  background-color: var(--sklearn-color-unfitted-level-2);\n",
              "}\n",
              "\n",
              "#sk-container-id-1 div.sk-label.fitted input.sk-toggleable__control:checked~label.sk-toggleable__label {\n",
              "  background-color: var(--sklearn-color-fitted-level-2);\n",
              "}\n",
              "\n",
              "/* Estimator-specific style */\n",
              "\n",
              "/* Colorize estimator box */\n",
              "#sk-container-id-1 div.sk-estimator input.sk-toggleable__control:checked~label.sk-toggleable__label {\n",
              "  /* unfitted */\n",
              "  background-color: var(--sklearn-color-unfitted-level-2);\n",
              "}\n",
              "\n",
              "#sk-container-id-1 div.sk-estimator.fitted input.sk-toggleable__control:checked~label.sk-toggleable__label {\n",
              "  /* fitted */\n",
              "  background-color: var(--sklearn-color-fitted-level-2);\n",
              "}\n",
              "\n",
              "#sk-container-id-1 div.sk-label label.sk-toggleable__label,\n",
              "#sk-container-id-1 div.sk-label label {\n",
              "  /* The background is the default theme color */\n",
              "  color: var(--sklearn-color-text-on-default-background);\n",
              "}\n",
              "\n",
              "/* On hover, darken the color of the background */\n",
              "#sk-container-id-1 div.sk-label:hover label.sk-toggleable__label {\n",
              "  color: var(--sklearn-color-text);\n",
              "  background-color: var(--sklearn-color-unfitted-level-2);\n",
              "}\n",
              "\n",
              "/* Label box, darken color on hover, fitted */\n",
              "#sk-container-id-1 div.sk-label.fitted:hover label.sk-toggleable__label.fitted {\n",
              "  color: var(--sklearn-color-text);\n",
              "  background-color: var(--sklearn-color-fitted-level-2);\n",
              "}\n",
              "\n",
              "/* Estimator label */\n",
              "\n",
              "#sk-container-id-1 div.sk-label label {\n",
              "  font-family: monospace;\n",
              "  font-weight: bold;\n",
              "  display: inline-block;\n",
              "  line-height: 1.2em;\n",
              "}\n",
              "\n",
              "#sk-container-id-1 div.sk-label-container {\n",
              "  text-align: center;\n",
              "}\n",
              "\n",
              "/* Estimator-specific */\n",
              "#sk-container-id-1 div.sk-estimator {\n",
              "  font-family: monospace;\n",
              "  border: 1px dotted var(--sklearn-color-border-box);\n",
              "  border-radius: 0.25em;\n",
              "  box-sizing: border-box;\n",
              "  margin-bottom: 0.5em;\n",
              "  /* unfitted */\n",
              "  background-color: var(--sklearn-color-unfitted-level-0);\n",
              "}\n",
              "\n",
              "#sk-container-id-1 div.sk-estimator.fitted {\n",
              "  /* fitted */\n",
              "  background-color: var(--sklearn-color-fitted-level-0);\n",
              "}\n",
              "\n",
              "/* on hover */\n",
              "#sk-container-id-1 div.sk-estimator:hover {\n",
              "  /* unfitted */\n",
              "  background-color: var(--sklearn-color-unfitted-level-2);\n",
              "}\n",
              "\n",
              "#sk-container-id-1 div.sk-estimator.fitted:hover {\n",
              "  /* fitted */\n",
              "  background-color: var(--sklearn-color-fitted-level-2);\n",
              "}\n",
              "\n",
              "/* Specification for estimator info (e.g. \"i\" and \"?\") */\n",
              "\n",
              "/* Common style for \"i\" and \"?\" */\n",
              "\n",
              ".sk-estimator-doc-link,\n",
              "a:link.sk-estimator-doc-link,\n",
              "a:visited.sk-estimator-doc-link {\n",
              "  float: right;\n",
              "  font-size: smaller;\n",
              "  line-height: 1em;\n",
              "  font-family: monospace;\n",
              "  background-color: var(--sklearn-color-background);\n",
              "  border-radius: 1em;\n",
              "  height: 1em;\n",
              "  width: 1em;\n",
              "  text-decoration: none !important;\n",
              "  margin-left: 0.5em;\n",
              "  text-align: center;\n",
              "  /* unfitted */\n",
              "  border: var(--sklearn-color-unfitted-level-1) 1pt solid;\n",
              "  color: var(--sklearn-color-unfitted-level-1);\n",
              "}\n",
              "\n",
              ".sk-estimator-doc-link.fitted,\n",
              "a:link.sk-estimator-doc-link.fitted,\n",
              "a:visited.sk-estimator-doc-link.fitted {\n",
              "  /* fitted */\n",
              "  border: var(--sklearn-color-fitted-level-1) 1pt solid;\n",
              "  color: var(--sklearn-color-fitted-level-1);\n",
              "}\n",
              "\n",
              "/* On hover */\n",
              "div.sk-estimator:hover .sk-estimator-doc-link:hover,\n",
              ".sk-estimator-doc-link:hover,\n",
              "div.sk-label-container:hover .sk-estimator-doc-link:hover,\n",
              ".sk-estimator-doc-link:hover {\n",
              "  /* unfitted */\n",
              "  background-color: var(--sklearn-color-unfitted-level-3);\n",
              "  color: var(--sklearn-color-background);\n",
              "  text-decoration: none;\n",
              "}\n",
              "\n",
              "div.sk-estimator.fitted:hover .sk-estimator-doc-link.fitted:hover,\n",
              ".sk-estimator-doc-link.fitted:hover,\n",
              "div.sk-label-container:hover .sk-estimator-doc-link.fitted:hover,\n",
              ".sk-estimator-doc-link.fitted:hover {\n",
              "  /* fitted */\n",
              "  background-color: var(--sklearn-color-fitted-level-3);\n",
              "  color: var(--sklearn-color-background);\n",
              "  text-decoration: none;\n",
              "}\n",
              "\n",
              "/* Span, style for the box shown on hovering the info icon */\n",
              ".sk-estimator-doc-link span {\n",
              "  display: none;\n",
              "  z-index: 9999;\n",
              "  position: relative;\n",
              "  font-weight: normal;\n",
              "  right: .2ex;\n",
              "  padding: .5ex;\n",
              "  margin: .5ex;\n",
              "  width: min-content;\n",
              "  min-width: 20ex;\n",
              "  max-width: 50ex;\n",
              "  color: var(--sklearn-color-text);\n",
              "  box-shadow: 2pt 2pt 4pt #999;\n",
              "  /* unfitted */\n",
              "  background: var(--sklearn-color-unfitted-level-0);\n",
              "  border: .5pt solid var(--sklearn-color-unfitted-level-3);\n",
              "}\n",
              "\n",
              ".sk-estimator-doc-link.fitted span {\n",
              "  /* fitted */\n",
              "  background: var(--sklearn-color-fitted-level-0);\n",
              "  border: var(--sklearn-color-fitted-level-3);\n",
              "}\n",
              "\n",
              ".sk-estimator-doc-link:hover span {\n",
              "  display: block;\n",
              "}\n",
              "\n",
              "/* \"?\"-specific style due to the `<a>` HTML tag */\n",
              "\n",
              "#sk-container-id-1 a.estimator_doc_link {\n",
              "  float: right;\n",
              "  font-size: 1rem;\n",
              "  line-height: 1em;\n",
              "  font-family: monospace;\n",
              "  background-color: var(--sklearn-color-background);\n",
              "  border-radius: 1rem;\n",
              "  height: 1rem;\n",
              "  width: 1rem;\n",
              "  text-decoration: none;\n",
              "  /* unfitted */\n",
              "  color: var(--sklearn-color-unfitted-level-1);\n",
              "  border: var(--sklearn-color-unfitted-level-1) 1pt solid;\n",
              "}\n",
              "\n",
              "#sk-container-id-1 a.estimator_doc_link.fitted {\n",
              "  /* fitted */\n",
              "  border: var(--sklearn-color-fitted-level-1) 1pt solid;\n",
              "  color: var(--sklearn-color-fitted-level-1);\n",
              "}\n",
              "\n",
              "/* On hover */\n",
              "#sk-container-id-1 a.estimator_doc_link:hover {\n",
              "  /* unfitted */\n",
              "  background-color: var(--sklearn-color-unfitted-level-3);\n",
              "  color: var(--sklearn-color-background);\n",
              "  text-decoration: none;\n",
              "}\n",
              "\n",
              "#sk-container-id-1 a.estimator_doc_link.fitted:hover {\n",
              "  /* fitted */\n",
              "  background-color: var(--sklearn-color-fitted-level-3);\n",
              "}\n",
              "</style><div id=\"sk-container-id-1\" class=\"sk-top-container\"><div class=\"sk-text-repr-fallback\"><pre>LogisticRegression(max_iter=500, multi_class=&#x27;multinomial&#x27;)</pre><b>In a Jupyter environment, please rerun this cell to show the HTML representation or trust the notebook. <br />On GitHub, the HTML representation is unable to render, please try loading this page with nbviewer.org.</b></div><div class=\"sk-container\" hidden><div class=\"sk-item\"><div class=\"sk-estimator fitted sk-toggleable\"><input class=\"sk-toggleable__control sk-hidden--visually\" id=\"sk-estimator-id-1\" type=\"checkbox\" checked><label for=\"sk-estimator-id-1\" class=\"sk-toggleable__label fitted sk-toggleable__label-arrow\"><div><div>LogisticRegression</div></div><div><a class=\"sk-estimator-doc-link fitted\" rel=\"noreferrer\" target=\"_blank\" href=\"https://scikit-learn.org/1.6/modules/generated/sklearn.linear_model.LogisticRegression.html\">?<span>Documentation for LogisticRegression</span></a><span class=\"sk-estimator-doc-link fitted\">i<span>Fitted</span></span></div></label><div class=\"sk-toggleable__content fitted\"><pre>LogisticRegression(max_iter=500, multi_class=&#x27;multinomial&#x27;)</pre></div> </div></div></div></div>"
            ]
          },
          "metadata": {},
          "execution_count": 41
        }
      ],
      "source": [
        "from sklearn.linear_model import LogisticRegression\n",
        "log_reg = LogisticRegression(multi_class='multinomial', solver='lbfgs', max_iter=500)\n",
        "log_reg.fit(X_train, y_train)"
      ]
    },
    {
      "cell_type": "code",
      "execution_count": 42,
      "metadata": {
        "colab": {
          "base_uri": "https://localhost:8080/"
        },
        "id": "yIQK8_i5u29H",
        "outputId": "474e0886-07c1-48be-8b6b-38d911e7867d"
      },
      "outputs": [
        {
          "output_type": "stream",
          "name": "stdout",
          "text": [
            "              precision    recall  f1-score   support\n",
            "\n",
            "           0       0.35      0.26      0.30      2376\n",
            "           1       0.33      0.37      0.35      2267\n",
            "           2       0.34      0.38      0.36      2284\n",
            "\n",
            "    accuracy                           0.34      6927\n",
            "   macro avg       0.34      0.34      0.34      6927\n",
            "weighted avg       0.34      0.34      0.33      6927\n",
            "\n",
            "------------------------------------------\n",
            "[[622 882 872]\n",
            " [567 835 865]\n",
            " [592 814 878]]\n"
          ]
        }
      ],
      "source": [
        "from sklearn.metrics import classification_report, confusion_matrix, accuracy_score\n",
        "y_pred_logreg = log_reg.predict(X_test)\n",
        "\n",
        "score_logreg = accuracy_score(y_test, y_pred_logreg)\n",
        "classification_report_logreg = classification_report(y_test, y_pred_logreg)\n",
        "print(classification_report_logreg)\n",
        "print(\"------------------------------------------\")\n",
        "confusion_matrix_logreg = confusion_matrix(y_test, y_pred_logreg)\n",
        "print(confusion_matrix_logreg)"
      ]
    },
    {
      "cell_type": "markdown",
      "metadata": {
        "id": "h-34GTyBu29H"
      },
      "source": [
        "* According to the report and confusion matrix, we can clearly say that model is working to predict randomly so, ``accuracy is %34``. For a base model, it's too poor.\n",
        "* Also this consequence can be seen from confusion matrix, many instance of class have been classified wrong.\n",
        "* The reason why the model is so low that it's because of linear model structure, because our target variable descleares 3 kinds of class."
      ]
    },
    {
      "cell_type": "markdown",
      "metadata": {
        "id": "OhFbQia5u29I"
      },
      "source": [
        "## Random Forest Classifier"
      ]
    },
    {
      "cell_type": "code",
      "execution_count": 43,
      "metadata": {
        "colab": {
          "base_uri": "https://localhost:8080/"
        },
        "id": "Fqmh9VBgu29I",
        "outputId": "9ee3c460-0f70-45e4-ca0a-7e840076e322"
      },
      "outputs": [
        {
          "output_type": "stream",
          "name": "stdout",
          "text": [
            "              precision    recall  f1-score   support\n",
            "\n",
            "           0       0.34      0.31      0.33      2376\n",
            "           1       0.32      0.34      0.33      2267\n",
            "           2       0.34      0.35      0.34      2284\n",
            "\n",
            "    accuracy                           0.33      6927\n",
            "   macro avg       0.33      0.33      0.33      6927\n",
            "weighted avg       0.33      0.33      0.33      6927\n",
            "\n",
            "_----------------------------------_\n",
            "[[747 837 792]\n",
            " [733 764 770]\n",
            " [731 764 789]]\n",
            "_----------------------------------_\n",
            "0.33203406958279197\n"
          ]
        }
      ],
      "source": [
        "from sklearn.ensemble import RandomForestClassifier\n",
        "from sklearn.model_selection import GridSearchCV\n",
        "rnd_clf = RandomForestClassifier(n_estimators=500, max_leaf_nodes=16, n_jobs=-1, random_state=42)\n",
        "rnd_clf.fit(X_train, y_train)\n",
        "y_pred_rf = rnd_clf.predict(X_test)\n",
        "\n",
        "classification_report_rfc = classification_report(y_test, y_pred_rf)\n",
        "print(classification_report_rfc)\n",
        "print(\"_----------------------------------_\")\n",
        "confusion_matrix_rfc = confusion_matrix(y_test, y_pred_rf)\n",
        "print(confusion_matrix_rfc)\n",
        "print(\"_----------------------------------_\")\n",
        "score_rfc = rnd_clf.score(X_test, y_test)\n",
        "print(score_rfc)"
      ]
    },
    {
      "cell_type": "markdown",
      "metadata": {
        "id": "GQmfSULgu29I"
      },
      "source": [
        "### Hyperparameter Tuning for RFC"
      ]
    },
    {
      "cell_type": "code",
      "execution_count": 44,
      "metadata": {
        "colab": {
          "base_uri": "https://localhost:8080/"
        },
        "id": "Fw6e5hCBu29J",
        "outputId": "48b3923c-bcd0-46e9-9a75-4f099f10e78b"
      },
      "outputs": [
        {
          "output_type": "stream",
          "name": "stdout",
          "text": [
            "Training has been started...\n",
            "Fitting 5 folds for each of 216 candidates, totalling 1080 fits\n",
            "Best model has been saved.\n",
            "Best parameters:  {'bootstrap': False, 'max_depth': None, 'min_samples_leaf': 4, 'min_samples_split': 2, 'n_estimators': 50}\n",
            "Best Score:  0.34095283926852743\n",
            "Test Seti Doğruluğu: 0.3271257398585246\n",
            "Classification Report:\n",
            "              precision    recall  f1-score   support\n",
            "\n",
            "           0       0.34      0.33      0.34      2376\n",
            "           1       0.32      0.33      0.33      2267\n",
            "           2       0.32      0.32      0.32      2284\n",
            "\n",
            "    accuracy                           0.33      6927\n",
            "   macro avg       0.33      0.33      0.33      6927\n",
            "weighted avg       0.33      0.33      0.33      6927\n",
            "\n",
            "Confusion Matrix:\n",
            "[[790 807 779]\n",
            " [749 753 765]\n",
            " [783 778 723]]\n"
          ]
        }
      ],
      "source": [
        "best_rf_model_file = os.path.join('../Models', 'best_rf_model.pkl')\n",
        "\n",
        "if os.path.exists(best_rf_model_file):\n",
        "    best_rf_model = joblib.load(best_rf_model_file)\n",
        "else:\n",
        "    print(\"Training has been started...\")\n",
        "    rnd_clf = RandomForestClassifier(random_state=42)\n",
        "\n",
        "    param_grid = {\n",
        "        'n_estimators': [50, 100, 200],        # Ağaç sayısı\n",
        "        'max_depth': [None, 10, 20, 30],       # Maksimum derinlik\n",
        "        'min_samples_split': [2, 5, 10],       # Düğümlerin bölünmesi için minimum örnek sayısı\n",
        "        'min_samples_leaf': [1, 2, 4],          # Yaprak düğümdeki minimum örnek sayısı\n",
        "        'bootstrap': [True, False]\n",
        "    }\n",
        "\n",
        "    grid_search = GridSearchCV(estimator=rnd_clf,\n",
        "                               param_grid=param_grid,\n",
        "                               cv=5,\n",
        "                               scoring='accuracy',\n",
        "                               verbose=2,\n",
        "                               n_jobs=-1)\n",
        "\n",
        "    grid_search.fit(X_train, y_train)\n",
        "\n",
        "    #Saving the best model\n",
        "    best_rf_model = grid_search.best_estimator_\n",
        "    #joblib.dump(best_rf_model, best_rf_model_file)\n",
        "    print(\"Best model has been saved.\")\n",
        "\n",
        "# En iyi parametreler ve skor\n",
        "if 'grid_search' in locals():\n",
        "    print(\"Best parameters: \", grid_search.best_params_)\n",
        "    print(\"Best Score: \", grid_search.best_score_)\n",
        "\n",
        "y_pred_rfc_tuned = best_rf_model.predict(X_test)\n",
        "\n",
        "# Model Performance Evaluation\n",
        "score_rfc_tuned = accuracy_score(y_test, y_pred_rfc_tuned)\n",
        "print(\"Test Seti Doğruluğu:\", score_rfc_tuned)\n",
        "print(\"Classification Report:\")\n",
        "classification_report_rfc_tuned = classification_report(y_test, y_pred_rfc_tuned)\n",
        "print(classification_report_rfc_tuned)\n",
        "print(\"Confusion Matrix:\")\n",
        "confusion_matrix_rfc_tuned = confusion_matrix(y_test, y_pred_rfc_tuned)\n",
        "print(confusion_matrix_rfc_tuned)"
      ]
    },
    {
      "cell_type": "markdown",
      "metadata": {
        "id": "nO8hO4leu29J"
      },
      "source": [
        "## SVM with RBF\n",
        "\n",
        "* Data is non-linear so, RBF is neceessary."
      ]
    },
    {
      "cell_type": "code",
      "execution_count": 45,
      "metadata": {
        "colab": {
          "base_uri": "https://localhost:8080/"
        },
        "id": "3odRZTN8u29K",
        "outputId": "fa9c0763-53d5-468b-9323-200b834dc354"
      },
      "outputs": [
        {
          "output_type": "stream",
          "name": "stdout",
          "text": [
            "Classification Report:\n",
            "              precision    recall  f1-score   support\n",
            "\n",
            "           0       0.34      0.37      0.35      2376\n",
            "           1       0.33      0.33      0.33      2267\n",
            "           2       0.33      0.30      0.31      2284\n",
            "\n",
            "    accuracy                           0.33      6927\n",
            "   macro avg       0.33      0.33      0.33      6927\n",
            "weighted avg       0.33      0.33      0.33      6927\n",
            "\n",
            "Confusion Matrix:\n",
            "[[884 802 690]\n",
            " [853 741 673]\n",
            " [881 727 676]]\n"
          ]
        }
      ],
      "source": [
        "from sklearn.svm import SVC\n",
        "\n",
        "# SVM modeli RBF kernel ile oluşturma ve eğitme\n",
        "svm_rbf = SVC(kernel='rbf', C=1.0, gamma='scale', random_state=42)\n",
        "svm_rbf.fit(X_train, y_train)\n",
        "\n",
        "# Tahminler yapma\n",
        "y_pred_svm = svm_rbf.predict(X_test)\n",
        "\n",
        "# Model performansını değerlendirme\n",
        "classification_report_svm = classification_report(y_test, y_pred_svm)\n",
        "print(\"Classification Report:\")\n",
        "print(classification_report_svm)\n",
        "confusion_matrix_svm = confusion_matrix(y_test, y_pred_svm)\n",
        "print(\"Confusion Matrix:\")\n",
        "print(confusion_matrix_svm)"
      ]
    },
    {
      "cell_type": "markdown",
      "metadata": {
        "id": "Ag9iZvmZu29K"
      },
      "source": [
        "### Hyperparameter Tuning for SVM"
      ]
    },
    {
      "cell_type": "code",
      "execution_count": 46,
      "metadata": {
        "colab": {
          "base_uri": "https://localhost:8080/"
        },
        "id": "LM1EM8cEu29K",
        "outputId": "0e5e0709-6791-481e-eaf4-6c5c1bfe509c"
      },
      "outputs": [
        {
          "output_type": "stream",
          "name": "stdout",
          "text": [
            "Training has started...\n",
            "Fitting 3 folds for each of 16 candidates, totalling 48 fits\n",
            "[CV] END .........................C=0.1, gamma=1, kernel=rbf; total time=  13.6s\n",
            "[CV] END .........................C=0.1, gamma=1, kernel=rbf; total time=  13.6s\n",
            "[CV] END .........................C=0.1, gamma=1, kernel=rbf; total time=  13.6s\n",
            "[CV] END .......................C=0.1, gamma=0.1, kernel=rbf; total time=  14.7s\n",
            "[CV] END .......................C=0.1, gamma=0.1, kernel=rbf; total time=  14.2s\n",
            "[CV] END .......................C=0.1, gamma=0.1, kernel=rbf; total time=  14.5s\n",
            "[CV] END ......................C=0.1, gamma=0.01, kernel=rbf; total time=  13.5s\n",
            "[CV] END ......................C=0.1, gamma=0.01, kernel=rbf; total time=  13.6s\n",
            "[CV] END ......................C=0.1, gamma=0.01, kernel=rbf; total time=  13.6s\n",
            "[CV] END .....................C=0.1, gamma=0.001, kernel=rbf; total time=  13.4s\n",
            "[CV] END .....................C=0.1, gamma=0.001, kernel=rbf; total time=  13.5s\n",
            "[CV] END .....................C=0.1, gamma=0.001, kernel=rbf; total time=  13.4s\n",
            "[CV] END ...........................C=1, gamma=1, kernel=rbf; total time=  17.4s\n",
            "[CV] END ...........................C=1, gamma=1, kernel=rbf; total time=  17.5s\n",
            "[CV] END ...........................C=1, gamma=1, kernel=rbf; total time=  17.5s\n",
            "[CV] END .........................C=1, gamma=0.1, kernel=rbf; total time=  15.1s\n",
            "[CV] END .........................C=1, gamma=0.1, kernel=rbf; total time=  14.8s\n",
            "[CV] END .........................C=1, gamma=0.1, kernel=rbf; total time=  14.7s\n",
            "[CV] END ........................C=1, gamma=0.01, kernel=rbf; total time=  13.5s\n",
            "[CV] END ........................C=1, gamma=0.01, kernel=rbf; total time=  13.4s\n",
            "[CV] END ........................C=1, gamma=0.01, kernel=rbf; total time=  13.5s\n",
            "[CV] END .......................C=1, gamma=0.001, kernel=rbf; total time=  13.4s\n",
            "[CV] END .......................C=1, gamma=0.001, kernel=rbf; total time=  13.4s\n",
            "[CV] END .......................C=1, gamma=0.001, kernel=rbf; total time=  13.4s\n",
            "[CV] END ..........................C=10, gamma=1, kernel=rbf; total time=  29.7s\n",
            "[CV] END ..........................C=10, gamma=1, kernel=rbf; total time=  29.9s\n",
            "[CV] END ..........................C=10, gamma=1, kernel=rbf; total time=  29.7s\n",
            "[CV] END ........................C=10, gamma=0.1, kernel=rbf; total time=  24.1s\n",
            "[CV] END ........................C=10, gamma=0.1, kernel=rbf; total time=  24.2s\n",
            "[CV] END ........................C=10, gamma=0.1, kernel=rbf; total time=  24.2s\n",
            "[CV] END .......................C=10, gamma=0.01, kernel=rbf; total time=  14.6s\n",
            "[CV] END .......................C=10, gamma=0.01, kernel=rbf; total time=  14.5s\n",
            "[CV] END .......................C=10, gamma=0.01, kernel=rbf; total time=  14.7s\n",
            "[CV] END ......................C=10, gamma=0.001, kernel=rbf; total time=  13.7s\n",
            "[CV] END ......................C=10, gamma=0.001, kernel=rbf; total time=  13.4s\n",
            "[CV] END ......................C=10, gamma=0.001, kernel=rbf; total time=  13.4s\n",
            "[CV] END .........................C=100, gamma=1, kernel=rbf; total time=  29.7s\n",
            "[CV] END .........................C=100, gamma=1, kernel=rbf; total time=  29.5s\n",
            "[CV] END .........................C=100, gamma=1, kernel=rbf; total time=  29.5s\n",
            "[CV] END .......................C=100, gamma=0.1, kernel=rbf; total time= 1.6min\n",
            "[CV] END .......................C=100, gamma=0.1, kernel=rbf; total time= 1.6min\n",
            "[CV] END .......................C=100, gamma=0.1, kernel=rbf; total time= 1.6min\n",
            "[CV] END ......................C=100, gamma=0.01, kernel=rbf; total time=  24.3s\n",
            "[CV] END ......................C=100, gamma=0.01, kernel=rbf; total time=  24.0s\n",
            "[CV] END ......................C=100, gamma=0.01, kernel=rbf; total time=  23.6s\n",
            "[CV] END .....................C=100, gamma=0.001, kernel=rbf; total time=  14.4s\n",
            "[CV] END .....................C=100, gamma=0.001, kernel=rbf; total time=  14.3s\n",
            "[CV] END .....................C=100, gamma=0.001, kernel=rbf; total time=  14.2s\n",
            "Best Parameters: {'C': 10, 'gamma': 0.001, 'kernel': 'rbf'}\n",
            "Best Cross-Validation Score: 0.3366220056824325\n",
            "Classification Report:\n",
            "              precision    recall  f1-score   support\n",
            "\n",
            "           0       0.35      0.39      0.37      2376\n",
            "           1       0.35      0.33      0.34      2267\n",
            "           2       0.34      0.33      0.33      2284\n",
            "\n",
            "    accuracy                           0.35      6927\n",
            "   macro avg       0.35      0.35      0.35      6927\n",
            "weighted avg       0.35      0.35      0.35      6927\n",
            "\n",
            "Confusion Matrix:\n",
            "[[929 705 742]\n",
            " [825 740 702]\n",
            " [881 658 745]]\n"
          ]
        }
      ],
      "source": [
        "param_grid = {\n",
        "    'C': [0.1, 1, 10, 100],         # Regularization parameter\n",
        "    'gamma': [1, 0.1, 0.01, 0.001], # RBF kernel için gamma\n",
        "    'kernel': ['rbf']               # Sadece RBF kernel\n",
        "}\n",
        "\n",
        "best_svm_model_file = os.path.join('../Models', 'best_svm_model.pkl')\n",
        "\n",
        "#Model Check\n",
        "if os.path.exists(best_svm_model_file):\n",
        "    best_svm_model = joblib.load(best_svm_model_file)\n",
        "else:\n",
        "    print(\"Training has started...\")\n",
        "    grid = GridSearchCV(\n",
        "        SVC(random_state=42),\n",
        "        param_grid,\n",
        "        refit=True,\n",
        "        verbose=2,\n",
        "        cv=3\n",
        "    )\n",
        "    grid.fit(X_train, y_train)\n",
        "\n",
        "    #Saving the best model\n",
        "    best_svm_model = grid.best_estimator_\n",
        "    #joblib.dump(best_svm_model, best_svm_model_file)\n",
        "\n",
        "if 'grid' in locals():\n",
        "    print(\"Best Parameters:\", grid.best_params_)\n",
        "    print(\"Best Cross-Validation Score:\", grid.best_score_)\n",
        "\n",
        "# Test seti üzerinde tahminler yapma\n",
        "y_pred_svm_tuned = best_svm_model.predict(X_test)\n",
        "\n",
        "# Model performansını değerlendirme\n",
        "score_svm_tuned = accuracy_score(y_test, y_pred_svm_tuned)\n",
        "classification_report_svm_tuned = classification_report(y_test, y_pred_svm_tuned)\n",
        "print(\"Classification Report:\")\n",
        "print(classification_report_svm_tuned)\n",
        "confusion_matrix_svm_tuned = confusion_matrix(y_test, y_pred_svm_tuned)\n",
        "print(\"Confusion Matrix:\")\n",
        "print(confusion_matrix_svm_tuned)"
      ]
    },
    {
      "cell_type": "code",
      "execution_count": 47,
      "metadata": {
        "colab": {
          "base_uri": "https://localhost:8080/"
        },
        "id": "c5LKOQMMu29L",
        "outputId": "2a475ab7-398b-4a19-8d3b-7db4433cd1b6"
      },
      "outputs": [
        {
          "output_type": "stream",
          "name": "stdout",
          "text": [
            "Best Parameters: {'C': 10, 'gamma': 0.001, 'kernel': 'rbf'}\n",
            "Best Cross-Validation Score: 0.3366220056824325\n"
          ]
        }
      ],
      "source": [
        "# En iyi parametreleri ve en iyi skoru yazdırma\n",
        "print(\"Best Parameters:\", grid.best_params_)\n",
        "print(\"Best Cross-Validation Score:\", grid.best_score_)"
      ]
    },
    {
      "cell_type": "code",
      "execution_count": 48,
      "metadata": {
        "colab": {
          "base_uri": "https://localhost:8080/"
        },
        "id": "K-cSziDSu29M",
        "outputId": "38e49311-7da2-47e1-b071-9404e096e18a"
      },
      "outputs": [
        {
          "output_type": "stream",
          "name": "stdout",
          "text": [
            "Classification Report:\n",
            "              precision    recall  f1-score   support\n",
            "\n",
            "           0       0.35      0.39      0.37      2376\n",
            "           1       0.35      0.33      0.34      2267\n",
            "           2       0.34      0.33      0.33      2284\n",
            "\n",
            "    accuracy                           0.35      6927\n",
            "   macro avg       0.35      0.35      0.35      6927\n",
            "weighted avg       0.35      0.35      0.35      6927\n",
            "\n",
            "Confusion Matrix:\n",
            "[[929 705 742]\n",
            " [825 740 702]\n",
            " [881 658 745]]\n"
          ]
        }
      ],
      "source": [
        "# Model performansını değerlendirme\n",
        "print(\"Classification Report:\")\n",
        "print(classification_report(y_test, y_pred_svm_tuned))\n",
        "print(\"Confusion Matrix:\")\n",
        "print(confusion_matrix(y_test, y_pred_svm_tuned))"
      ]
    },
    {
      "cell_type": "markdown",
      "metadata": {
        "id": "CCTWXTPDu29M"
      },
      "source": [
        "## XGBoost"
      ]
    },
    {
      "cell_type": "code",
      "execution_count": 49,
      "metadata": {
        "colab": {
          "base_uri": "https://localhost:8080/"
        },
        "id": "FhUMzlbnu29N",
        "outputId": "558b51cd-cc31-4eb6-e8c1-854e4f30b74a"
      },
      "outputs": [
        {
          "output_type": "stream",
          "name": "stdout",
          "text": [
            "Accuracy:  0.3336220586112314\n",
            "---------------------------------------\n",
            "Classification Report: \n",
            "              precision    recall  f1-score   support\n",
            "\n",
            "           0       0.35      0.36      0.35      2376\n",
            "           1       0.33      0.33      0.33      2267\n",
            "           2       0.32      0.32      0.32      2284\n",
            "\n",
            "    accuracy                           0.33      6927\n",
            "   macro avg       0.33      0.33      0.33      6927\n",
            "weighted avg       0.33      0.33      0.33      6927\n",
            "\n",
            "---------------------------------------\n",
            "Confusion Matrix: \n",
            "[[846 750 780]\n",
            " [756 743 768]\n",
            " [829 733 722]]\n"
          ]
        }
      ],
      "source": [
        "from xgboost import XGBClassifier\n",
        "\n",
        "xgb_clf = XGBClassifier(random_state=42)\n",
        "xgb_clf.fit(X_train, y_train)\n",
        "\n",
        "y_pred_xgb = xgb_clf.predict(X_test)\n",
        "\n",
        "score_xgb = accuracy_score(y_test, y_pred_xgb)\n",
        "print(\"Accuracy: \", score_xgb)\n",
        "print(\"---------------------------------------\")\n",
        "classification_report_xgb = classification_report(y_test, y_pred_xgb)\n",
        "print(\"Classification Report: \")\n",
        "print(classification_report_xgb)\n",
        "print(\"---------------------------------------\")\n",
        "confusion_matrix_xgb = confusion_matrix(y_test, y_pred_xgb)\n",
        "print(\"Confusion Matrix: \")\n",
        "print(confusion_matrix_xgb)"
      ]
    },
    {
      "cell_type": "markdown",
      "metadata": {
        "id": "KhFLCf76u29O"
      },
      "source": [
        "### Hyperparameter Tuning:"
      ]
    },
    {
      "cell_type": "code",
      "execution_count": 50,
      "metadata": {
        "colab": {
          "base_uri": "https://localhost:8080/"
        },
        "id": "DdIgVdtEu29O",
        "outputId": "cb48d0ea-a48d-43d8-e0e7-4d322a55137c"
      },
      "outputs": [
        {
          "output_type": "stream",
          "name": "stdout",
          "text": [
            "Fitting 5 folds for each of 243 candidates, totalling 1215 fits\n",
            "Classification Report:\n",
            "-----------------------------------------\n",
            "              precision    recall  f1-score   support\n",
            "\n",
            "           0       0.34      0.36      0.35      2376\n",
            "           1       0.32      0.32      0.32      2267\n",
            "           2       0.33      0.31      0.32      2284\n",
            "\n",
            "    accuracy                           0.33      6927\n",
            "   macro avg       0.33      0.33      0.33      6927\n",
            "weighted avg       0.33      0.33      0.33      6927\n",
            "\n",
            "-----------------------------------------\n",
            "Confusion Matrix:\n",
            "-----------------------------------------\n",
            "[[848 811 717]\n",
            " [805 733 729]\n",
            " [853 712 719]]\n"
          ]
        }
      ],
      "source": [
        "#best_xgb_model_file = os.path.join('../Models', 'best_xgb_model.pkl')\n",
        "\n",
        "#Model Check\n",
        "#if os.path.exists(best_xgb_model_file):\n",
        "#    best_xgb_model = joblib.load(best_xgb_model_file)\n",
        "#else:\n",
        "    #print(\"Training has started...\")\n",
        "\n",
        "param_grid = {\n",
        "        'n_estimators': [50, 100, 200],\n",
        "        'max_depth': [3, 5, 7],\n",
        "        'learning_rate': [0.01, 0.1, 0.2],\n",
        "        'subsample': [0.6, 0.8, 1.0],\n",
        "        'colsample_bytree': [0.6, 0.8, 1.0]\n",
        "    }\n",
        "\n",
        "    # Grid Search Time\n",
        "grid_search = GridSearchCV(\n",
        "        estimator=XGBClassifier(random_state=42),\n",
        "        param_grid=param_grid,\n",
        "        scoring='accuracy',\n",
        "        cv=5,\n",
        "        verbose=2,\n",
        "        n_jobs=-1\n",
        "    )\n",
        "grid_search.fit(X_train, y_train)\n",
        "\n",
        "    #Saving the best model\n",
        "best_xgb_model = grid_search.best_estimator_\n",
        "    #joblib.dump(best_xgb_model, best_xgb_model_file)\n",
        "\n",
        "#if 'grid_search' in locals():\n",
        "    #print(\"Best Parameters:\", grid_search.best_params_)\n",
        "    #print(\"Best Cross-Validation Score:\", grid_search.best_score_)\n",
        "\n",
        "# Test seti üzerinde tahminler yapma\n",
        "y_pred_xgb_tuned = best_xgb_model.predict(X_test)\n",
        "\n",
        "# Model performansını değerlendirme\n",
        "score_xgb_tuned = accuracy_score(y_test, y_pred_xgb_tuned)\n",
        "print(\"Classification Report:\")\n",
        "print(\"-----------------------------------------\")\n",
        "classification_report_xgb_tuned = classification_report(y_test, y_pred_xgb_tuned)\n",
        "print(classification_report_xgb_tuned)\n",
        "print(\"-----------------------------------------\")\n",
        "print(\"Confusion Matrix:\")\n",
        "print(\"-----------------------------------------\")\n",
        "confusion_matrix_xgb_tuned = confusion_matrix(y_test, y_pred_xgb_tuned)\n",
        "print(confusion_matrix_xgb_tuned)"
      ]
    },
    {
      "cell_type": "markdown",
      "metadata": {
        "id": "w5xKbA1Au29O"
      },
      "source": [
        "# Metric Visualization"
      ]
    },
    {
      "cell_type": "code",
      "execution_count": 51,
      "metadata": {
        "colab": {
          "base_uri": "https://localhost:8080/",
          "height": 395
        },
        "id": "WhyrFTliu29P",
        "outputId": "5f42da9c-251e-4e09-c0fe-e46eeec1e946"
      },
      "outputs": [
        {
          "output_type": "display_data",
          "data": {
            "text/plain": [
              "<Figure size 1800x600 with 3 Axes>"
            ],
            "image/png": "[encoded data removed]"
          },
          "metadata": {}
        }
      ],
      "source": [
        "import matplotlib.pyplot as plt\n",
        "import pandas as pd\n",
        "from io import StringIO\n",
        "\n",
        "# Classification report string'lerini tanımlama\n",
        "classification_report_rfc_tuned = '              precision    recall  f1-score   support\\n\\n           0       0.43      0.43      0.43      4714\\n           1       0.42      0.43      0.43      4509\\n           2       0.43      0.43      0.43      4652\\n\\n    accuracy                           0.43     13875\\n   macro avg       0.43      0.43      0.43     13875\\nweighted avg       0.43      0.43      0.43     13875\\n'\n",
        "\n",
        "classification_report_svm_tuned = '              precision    recall  f1-score   support\\n\\n           0       0.43      0.45      0.44      4714\\n           1       0.42      0.41      0.42      4509\\n           2       0.43      0.42      0.43      4652\\n\\n    accuracy                           0.43     13875\\n   macro avg       0.43      0.43      0.43     13875\\nweighted avg       0.43      0.43      0.43     13875\\n'\n",
        "\n",
        "classification_report_xgb_tuned = '              precision    recall  f1-score   support\\n\\n           0       0.39      0.40      0.39      4714\\n           1       0.38      0.39      0.38      4509\\n           2       0.38      0.37      0.38      4652\\n\\n    accuracy                           0.38     13875\\n   macro avg       0.38      0.38      0.38     13875\\nweighted avg       0.38      0.38      0.38     13875\\n'\n",
        "\n",
        "classification_report_logreg = '              precision    recall  f1-score   support\\n\\n           0       0.34      0.28      0.31      4714\\n           1       0.32      0.37      0.34      4509\\n           2       0.34      0.36      0.35      4652\\n\\n    accuracy                           0.34     13875\\n   macro avg       0.34      0.34      0.33     13875\\nweighted avg       0.34      0.34      0.33     13875\\n'\n",
        "\n",
        "# Raporları bir dictionary olarak saklayalım\n",
        "classification_reports = {\n",
        "    \"RFC Tuned\": classification_report_rfc_tuned,\n",
        "    \"SVM Tuned\": classification_report_svm_tuned,\n",
        "    \"XGB Tuned\": classification_report_xgb_tuned,\n",
        "    \"LogReg\": classification_report_logreg\n",
        "}\n",
        "\n",
        "# Her raporu işleyerek anlamlı bir yapıya dönüştürme\n",
        "processed_reports = {}\n",
        "for algo_name, report_text in classification_reports.items():\n",
        "    # Metin raporunu DataFrame'e dönüştür\n",
        "    df = pd.read_fwf(StringIO(report_text), skiprows=1)\n",
        "    df.columns = ['class', 'precision', 'recall', 'f1-score', 'support']\n",
        "\n",
        "    # Sadece \"macro avg\" satırını çekiyoruz\n",
        "    macro_avg_row = df[df['class'] == 'macro avg']\n",
        "    processed_reports[algo_name] = macro_avg_row[['precision', 'recall', 'f1-score']].iloc[0]\n",
        "\n",
        "# Görselleştirme için hazır veri oluşturma\n",
        "algorithms = list(processed_reports.keys())\n",
        "metrics = ['precision', 'recall', 'f1-score']\n",
        "data = {metric: [processed_reports[algo][metric] for algo in algorithms] for metric in metrics}\n",
        "\n",
        "# Subplotları oluşturma\n",
        "fig, axes = plt.subplots(1, len(metrics), figsize=(18, 6), sharey=True)\n",
        "\n",
        "colors = ['blue', 'green', 'red', 'orange']  # Her algoritma için bir renk\n",
        "\n",
        "for i, metric in enumerate(metrics):\n",
        "    axes[i].bar(algorithms, data[metric], color=colors)\n",
        "    axes[i].set_title(metric.capitalize())\n",
        "    axes[i].set_ylabel('Score')\n",
        "    axes[i].set_ylim(0, 1)  # Skor aralığı\n",
        "    axes[i].set_xticks(range(len(algorithms)))\n",
        "    axes[i].set_xticklabels(algorithms, rotation=45)\n",
        "\n",
        "plt.tight_layout()"
      ]
    },
    {
      "cell_type": "code",
      "execution_count": 52,
      "metadata": {
        "colab": {
          "base_uri": "https://localhost:8080/"
        },
        "id": "U0Vv2aO1u29Q",
        "outputId": "078c691f-4f41-472e-f187-ad58c58930b7"
      },
      "outputs": [
        {
          "output_type": "execute_result",
          "data": {
            "text/plain": [
              "0.3271257398585246"
            ]
          },
          "metadata": {},
          "execution_count": 52
        }
      ],
      "source": [
        "score_rfc_tuned"
      ]
    },
    {
      "cell_type": "code",
      "execution_count": 53,
      "metadata": {
        "colab": {
          "base_uri": "https://localhost:8080/"
        },
        "id": "GP1pOorxu29Q",
        "outputId": "9aacb47c-ba8c-4a8f-a635-86d862292ae4"
      },
      "outputs": [
        {
          "output_type": "execute_result",
          "data": {
            "text/plain": [
              "0.33203406958279197"
            ]
          },
          "metadata": {},
          "execution_count": 53
        }
      ],
      "source": [
        "score_xgb_tuned"
      ]
    },
    {
      "cell_type": "code",
      "execution_count": 54,
      "metadata": {
        "colab": {
          "base_uri": "https://localhost:8080/"
        },
        "id": "VUEJEI_4u29R",
        "outputId": "4641a204-3df4-4592-fcf7-db3c0cb30751"
      },
      "outputs": [
        {
          "output_type": "execute_result",
          "data": {
            "text/plain": [
              "0.34849141042298254"
            ]
          },
          "metadata": {},
          "execution_count": 54
        }
      ],
      "source": [
        "score_svm_tuned"
      ]
    },
    {
      "cell_type": "code",
      "execution_count": 55,
      "metadata": {
        "colab": {
          "base_uri": "https://localhost:8080/"
        },
        "id": "0htG3zLAu29R",
        "outputId": "8e9e1327-980e-4e2d-a8e1-9366871f1c1c"
      },
      "outputs": [
        {
          "output_type": "execute_result",
          "data": {
            "text/plain": [
              "0.3370867619460084"
            ]
          },
          "metadata": {},
          "execution_count": 55
        }
      ],
      "source": [
        "score_logreg"
      ]
    },
    {
      "cell_type": "code",
      "execution_count": 56,
      "metadata": {
        "colab": {
          "base_uri": "https://localhost:8080/",
          "height": 300
        },
        "id": "5VNc140Zu29R",
        "outputId": "30c10815-d012-44ca-d541-074e21db679c"
      },
      "outputs": [
        {
          "output_type": "display_data",
          "data": {
            "text/plain": [
              "<Figure size 2400x600 with 4 Axes>"
            ],
            "image/png": "[encoded data removed]"
          },
          "metadata": {}
        }
      ],
      "source": [
        "import matplotlib.pyplot as plt\n",
        "import pandas as pd\n",
        "from io import StringIO\n",
        "\n",
        "# Classification report string'lerini tanımlama\n",
        "classification_report_rfc_tuned = '              precision    recall  f1-score   support\\n\\n           0       0.43      0.43      0.43      4714\\n           1       0.42      0.43      0.43      4509\\n           2       0.43      0.43      0.43      4652\\n\\n    accuracy                           0.43     13875\\n   macro avg       0.43      0.43      0.43     13875\\nweighted avg       0.43      0.43      0.43     13875\\n'\n",
        "\n",
        "classification_report_svm_tuned = '              precision    recall  f1-score   support\\n\\n           0       0.43      0.45      0.44      4714\\n           1       0.42      0.41      0.42      4509\\n           2       0.43      0.42      0.43      4652\\n\\n    accuracy                           0.43     13875\\n   macro avg       0.43      0.43      0.43     13875\\nweighted avg       0.43      0.43      0.43     13875\\n'\n",
        "\n",
        "classification_report_xgb_tuned = '              precision    recall  f1-score   support\\n\\n           0       0.39      0.40      0.39      4714\\n           1       0.38      0.39      0.38      4509\\n           2       0.38      0.37      0.38      4652\\n\\n    accuracy                           0.38     13875\\n   macro avg       0.38      0.38      0.38     13875\\nweighted avg       0.38      0.38      0.38     13875\\n'\n",
        "\n",
        "classification_report_logreg = '              precision    recall  f1-score   support\\n\\n           0       0.34      0.28      0.31      4714\\n           1       0.32      0.37      0.34      4509\\n           2       0.34      0.36      0.35      4652\\n\\n    accuracy                           0.34     13875\\n   macro avg       0.34      0.34      0.33     13875\\nweighted avg       0.34      0.34      0.33     13875\\n'\n",
        "\n",
        "# Raporları bir dictionary olarak saklayalım\n",
        "classification_reports = {\n",
        "    \"RFC Tuned\": classification_report_rfc_tuned,\n",
        "    \"SVM Tuned\": classification_report_svm_tuned,\n",
        "    \"XGB Tuned\": classification_report_xgb_tuned,\n",
        "    \"LogReg\": classification_report_logreg\n",
        "}\n",
        "\n",
        "# Her raporu işleyerek anlamlı bir yapıya dönüştürme\n",
        "processed_reports = {}\n",
        "for algo_name, report_text in classification_reports.items():\n",
        "    df = pd.read_fwf(StringIO(report_text), skiprows=1)\n",
        "    df.columns = ['class', 'precision', 'recall', 'f1-score', 'support']\n",
        "    macro_avg_row = df[df['class'] == 'macro avg']\n",
        "    processed_reports[algo_name] = macro_avg_row[['precision', 'recall', 'f1-score']].iloc[0]\n",
        "\n",
        "# Ek olarak accuracy skorlarını tanımlama\n",
        "accuracy_scores = {\n",
        "    \"RFC Tuned\": 0.42897297297297273,\n",
        "    \"XGB Tuned\": 0.3842162162162162,\n",
        "    \"SVM Tuned\": 0.428036036036036,\n",
        "    \"LogReg\": 0.3354954954954955\n",
        "}\n",
        "\n",
        "# Görselleştirme için veri hazırlama\n",
        "algorithms = list(processed_reports.keys())\n",
        "metrics = ['precision', 'recall', 'f1-score']\n",
        "data = {metric: [processed_reports[algo][metric] for algo in algorithms] for metric in metrics}\n",
        "\n",
        "# Subplotları oluşturma (4 grafik: precision, recall, f1-score ve accuracy)\n",
        "fig, axes = plt.subplots(1, len(metrics) + 1, figsize=(24, 6), sharey=False)\n",
        "\n",
        "colors = ['blue', 'green', 'red', 'orange']  # Her algoritma için renk\n",
        "\n",
        "# İlk 3 grafiği çizme (precision, recall, f1-score)\n",
        "for i, metric in enumerate(metrics):\n",
        "    axes[i].bar(algorithms, data[metric], color=colors)\n",
        "    axes[i].set_title(metric.capitalize())\n",
        "    axes[i].set_ylabel('Score')\n",
        "    axes[i].set_ylim(0, 1)\n",
        "    axes[i].set_xticks(range(len(algorithms)))\n",
        "    axes[i].set_xticklabels(algorithms, rotation=45)\n",
        "\n",
        "# 4. grafik olarak accuracy grafiğini ekleme\n",
        "axes[3].bar(algorithms, list(accuracy_scores.values()), color=colors)\n",
        "axes[3].set_title(\"Accuracy\")\n",
        "axes[3].set_ylabel('Score')\n",
        "axes[3].set_ylim(0, 1)\n",
        "axes[3].set_xticks(range(len(algorithms)))\n",
        "axes[3].set_xticklabels(algorithms, rotation=45)\n",
        "\n",
        "plt.tight_layout()"
      ]
    },
    {
      "cell_type": "code",
      "execution_count": 57,
      "metadata": {
        "colab": {
          "base_uri": "https://localhost:8080/",
          "height": 807
        },
        "id": "daeAlmWKu29R",
        "outputId": "1f59718e-7bf8-4839-e7ff-e77ddef1c8a7"
      },
      "outputs": [
        {
          "output_type": "display_data",
          "data": {
            "text/plain": [
              "<Figure size 1000x800 with 4 Axes>"
            ],
            "image/png": "[encoded data removed]"
          },
          "metadata": {}
        }
      ],
      "source": [
        "import matplotlib.pyplot as plt\n",
        "import pandas as pd\n",
        "from io import StringIO\n",
        "\n",
        "# Classification report string'lerini tanımlama\n",
        "classification_report_rfc_tuned = '              precision    recall  f1-score   support\\n\\n           0       0.43      0.43      0.43      4714\\n           1       0.42      0.43      0.43      4509\\n           2       0.43      0.43      0.43      4652\\n\\n    accuracy                           0.43     13875\\n   macro avg       0.43      0.43      0.43     13875\\nweighted avg       0.43      0.43      0.43     13875\\n'\n",
        "\n",
        "classification_report_svm_tuned = '              precision    recall  f1-score   support\\n\\n           0       0.43      0.45      0.44      4714\\n           1       0.42      0.41      0.42      4509\\n           2       0.43      0.42      0.43      4652\\n\\n    accuracy                           0.43     13875\\n   macro avg       0.43      0.43      0.43     13875\\nweighted avg       0.43      0.43      0.43     13875\\n'\n",
        "\n",
        "classification_report_xgb_tuned = '              precision    recall  f1-score   support\\n\\n           0       0.39      0.40      0.39      4714\\n           1       0.38      0.39      0.38      4509\\n           2       0.38      0.37      0.38      4652\\n\\n    accuracy                           0.38     13875\\n   macro avg       0.38      0.38      0.38     13875\\nweighted avg       0.38      0.38      0.38     13875\\n'\n",
        "\n",
        "classification_report_logreg = '              precision    recall  f1-score   support\\n\\n           0       0.34      0.28      0.31      4714\\n           1       0.32      0.37      0.34      4509\\n           2       0.34      0.36      0.35      4652\\n\\n    accuracy                           0.34     13875\\n   macro avg       0.34      0.34      0.33     13875\\nweighted avg       0.34      0.34      0.33     13875\\n'\n",
        "\n",
        "# Raporları bir dictionary olarak saklayalım\n",
        "classification_reports = {\n",
        "    \"RFC Tuned\": classification_report_rfc_tuned,\n",
        "    \"SVM Tuned\": classification_report_svm_tuned,\n",
        "    \"XGB Tuned\": classification_report_xgb_tuned,\n",
        "    \"LogReg\": classification_report_logreg\n",
        "}\n",
        "\n",
        "# Her raporu işleyerek anlamlı bir yapıya dönüştürme\n",
        "processed_reports = {}\n",
        "for algo_name, report_text in classification_reports.items():\n",
        "    df = pd.read_fwf(StringIO(report_text), skiprows=1)\n",
        "    df.columns = ['class', 'precision', 'recall', 'f1-score', 'support']\n",
        "    macro_avg_row = df[df['class'] == 'macro avg']\n",
        "    processed_reports[algo_name] = macro_avg_row[['precision', 'recall', 'f1-score']].iloc[0]\n",
        "\n",
        "# Ek olarak accuracy skorlarını tanımlama\n",
        "accuracy_scores = {\n",
        "    \"RFC Tuned\": 0.42897297297297273,\n",
        "    \"XGB Tuned\": 0.3842162162162162,\n",
        "    \"SVM Tuned\": 0.428036036036036,\n",
        "    \"LogReg\": 0.3354954954954955\n",
        "}\n",
        "\n",
        "# Görselleştirme için veri hazırlama\n",
        "algorithms = list(processed_reports.keys())\n",
        "metrics = ['precision', 'recall', 'f1-score']\n",
        "data = {metric: [processed_reports[algo][metric] for algo in algorithms] for metric in metrics}\n",
        "\n",
        "# Subplotları oluşturma (2 satır, 2 sütun)\n",
        "fig, axes = plt.subplots(2, 2, figsize=(10, 8))\n",
        "axes = axes.flatten()  # 2x2 eksenleri tek bir listeye dönüştür\n",
        "\n",
        "colors = ['blue', 'green', 'red', 'orange']  # Her algoritma için renk\n",
        "\n",
        "# İlk 3 grafiği çizme (precision, recall, f1-score)\n",
        "for i, metric in enumerate(metrics):\n",
        "    axes[i].bar(algorithms, data[metric], color=colors)\n",
        "    axes[i].set_title(f\"{metric.capitalize()} Scores\")\n",
        "    axes[i].set_ylabel('Score')\n",
        "    axes[i].set_ylim(0, 1)\n",
        "    axes[i].set_xticklabels(algorithms, rotation=45)\n",
        "\n",
        "# 4. grafik: Accuracy\n",
        "axes[3].bar(algorithms, list(accuracy_scores.values()), color=colors)\n",
        "axes[3].set_title(\"Accuracy Scores\")\n",
        "axes[3].set_ylabel('Score')\n",
        "axes[3].set_ylim(0, 1)\n",
        "axes[3].set_xticklabels(algorithms, rotation=45)\n",
        "\n",
        "plt.tight_layout()\n"
      ]
    },
    {
      "cell_type": "code",
      "source": [
        "# Feature Importance\n",
        "\n",
        "model = RandomForestClassifier(random_state=42)\n",
        "model.fit(X_train, y_train)\n",
        "\n",
        "# Get feature importances\n",
        "importances = model.feature_importances_\n",
        "features = X_train.columns\n",
        "importance_df = pd.DataFrame({'Feature': features, 'Importance': importances})\n",
        "importance_df = importance_df.sort_values(by='Importance', ascending=False)\n",
        "\n",
        "# Plot\n",
        "plt.figure(figsize=(10, 6))\n",
        "sns.barplot(x='Importance', y='Feature', data=importance_df)\n",
        "plt.title('Feature Importances (Random Forest)')\n",
        "plt.tight_layout()\n",
        "plt.show()"
      ],
      "metadata": {
        "id": "PNZL_nJ2NP2A",
        "outputId": "b5b6aa69-ac31-4900-e35f-8103d471e2ff",
        "colab": {
          "base_uri": "https://localhost:8080/",
          "height": 607
        }
      },
      "execution_count": 59,
      "outputs": [
        {
          "output_type": "display_data",
          "data": {
            "text/plain": [
              "<Figure size 1000x600 with 1 Axes>"
            ],
            "image/png": "[encoded data removed]"
          },
          "metadata": {}
        }
      ]
    },
    {
      "cell_type": "code",
      "source": [
        "# Feature Selection (Select K Best + f_classif)\n",
        "\n",
        "# Apply SelectKBest with f_classif to select the top 10 features\n",
        "# Fit it on the training data and transform both X_train and X_test\n",
        "# Then train a RandomForestClassifier using only the selected features\n",
        "# Finally, print classification_report and accuracy score\n",
        "\n",
        "from sklearn.feature_selection import SelectKBest, f_classif\n",
        "from sklearn.ensemble import RandomForestClassifier\n",
        "from sklearn.metrics import classification_report, accuracy_score\n",
        "\n",
        "# Select top 10 features\n",
        "selector = SelectKBest(score_func=f_classif, k=10)\n",
        "X_train_selected = selector.fit_transform(X_train, y_train)\n",
        "X_test_selected = selector.transform(X_test)\n",
        "\n",
        "# Get selected feature names\n",
        "selected_features = X_train.columns[selector.get_support()]\n",
        "print(\"Selected Features:\", selected_features.tolist())\n",
        "\n",
        "# Train model on selected features\n",
        "model_selected = RandomForestClassifier(random_state=42)\n",
        "model_selected.fit(X_train_selected, y_train)\n",
        "y_pred_selected = model_selected.predict(X_test_selected)\n",
        "\n",
        "# Evaluate performance\n",
        "print(\"Accuracy:\", accuracy_score(y_test, y_pred_selected))\n",
        "print(\"Classification Report:\\n\", classification_report(y_test, y_pred_selected))"
      ],
      "metadata": {
        "id": "UFJrikOHOgBF",
        "outputId": "957f16e8-73d4-4d2d-9846-c5f50a9d84d9",
        "colab": {
          "base_uri": "https://localhost:8080/"
        }
      },
      "execution_count": 60,
      "outputs": [
        {
          "output_type": "stream",
          "name": "stdout",
          "text": [
            "Selected Features: ['Age', 'Gender', 'Blood Type', 'Medical Condition', 'Insurance Provider', 'Billing Amount', 'Admission Type', 'Medication', 'Admission Duration']\n",
            "Accuracy: 0.3272701024974737\n",
            "Classification Report:\n",
            "               precision    recall  f1-score   support\n",
            "\n",
            "           0       0.34      0.35      0.34      2376\n",
            "           1       0.32      0.32      0.32      2267\n",
            "           2       0.32      0.31      0.32      2284\n",
            "\n",
            "    accuracy                           0.33      6927\n",
            "   macro avg       0.33      0.33      0.33      6927\n",
            "weighted avg       0.33      0.33      0.33      6927\n",
            "\n"
          ]
        }
      ]
    },
    {
      "cell_type": "code",
      "source": [
        "# RFE (Recursive Feature Elimination)\n",
        "\n",
        "# Apply Recursive Feature Elimination (RFE) using RandomForestClassifier\n",
        "# Select the top 10 features and evaluate model performance\n",
        "\n",
        "from sklearn.feature_selection import RFE\n",
        "from sklearn.ensemble import RandomForestClassifier\n",
        "from sklearn.metrics import accuracy_score, classification_report\n",
        "\n",
        "# Use Random Forest as the estimator\n",
        "estimator = RandomForestClassifier(random_state=42)\n",
        "rfe = RFE(estimator, n_features_to_select=10)\n",
        "rfe.fit(X_train, y_train)\n",
        "\n",
        "# Get selected features\n",
        "selected_features_rfe = X_train.columns[rfe.support_]\n",
        "print(\"Selected Features with RFE :\", selected_features_rfe.tolist())\n",
        "\n",
        "# Train model on selected features\n",
        "X_train_rfe = X_train[selected_features_rfe]\n",
        "X_test_rfe = X_test[selected_features_rfe]\n",
        "\n",
        "model_rfe = RandomForestClassifier(random_state=42)\n",
        "model_rfe.fit(X_train_rfe, y_train)\n",
        "y_pred_rfe = model_rfe.predict(X_test_rfe)\n",
        "\n",
        "# Evaluate\n",
        "print(\"Accuracy:\", accuracy_score(y_test, y_pred_rfe))\n",
        "print(\"Classification Report:\\n\", classification_report(y_test, y_pred_rfe))"
      ],
      "metadata": {
        "id": "hRhiP7xqVBc6",
        "outputId": "f8595faa-bb0d-4225-bc8f-73dd18bc32b6",
        "colab": {
          "base_uri": "https://localhost:8080/"
        }
      },
      "execution_count": 61,
      "outputs": [
        {
          "output_type": "stream",
          "name": "stdout",
          "text": [
            "Selected Features with RFE : ['Age', 'Gender', 'Blood Type', 'Medical Condition', 'Insurance Provider', 'Billing Amount', 'Admission Type', 'Medication', 'Admission Duration']\n",
            "Accuracy: 0.3272701024974737\n",
            "Classification Report:\n",
            "               precision    recall  f1-score   support\n",
            "\n",
            "           0       0.34      0.35      0.34      2376\n",
            "           1       0.32      0.32      0.32      2267\n",
            "           2       0.32      0.31      0.32      2284\n",
            "\n",
            "    accuracy                           0.33      6927\n",
            "   macro avg       0.33      0.33      0.33      6927\n",
            "weighted avg       0.33      0.33      0.33      6927\n",
            "\n"
          ]
        }
      ]
    },
    {
      "cell_type": "code",
      "source": [
        "# Varsayım: select_kbest_features veya rfe_selected_features listesi elinizde var\n",
        "selected_features = ['Age', 'Gender', 'Blood Type', 'Medical Condition', 'Insurance Provider',\n",
        "                     'Billing Amount', 'Admission Type', 'Medication', 'Admission Duration']  # Örnek: RFE çıktısı\n",
        "\n",
        "X_train_sel = X_train[selected_features]\n",
        "X_test_sel = X_test[selected_features]\n",
        "\n",
        "# Aynı modelleri yeniden tanımlayalım\n",
        "models = {\n",
        "    \"Logistic Regression (FS)\": LogisticRegression(max_iter=1000),\n",
        "    \"Random Forest (FS)\": RandomForestClassifier(n_estimators=100, random_state=42),\n",
        "    \"XGBoost (FS)\": XGBClassifier(use_label_encoder=False, eval_metric='mlogloss'),\n",
        "    \"SVM (FS)\": SVC(probability=True)\n",
        "}\n",
        "\n",
        "# Sonuçları tutacağımız yer\n",
        "results_fs = {}\n",
        "\n",
        "for name, model in models.items():\n",
        "    model.fit(X_train_sel, y_train)\n",
        "    y_pred = model.predict(X_test_sel)\n",
        "    acc = accuracy_score(y_test, y_pred)\n",
        "    report = classification_report(y_test, y_pred, output_dict=True)\n",
        "    matrix = confusion_matrix(y_test, y_pred)\n",
        "\n",
        "    results_fs[name] = {\n",
        "        \"accuracy\": acc,\n",
        "        \"report\": report,\n",
        "        \"confusion_matrix\": matrix\n",
        "    }\n",
        "\n",
        "    print(f\"\\n{name}\")\n",
        "    print(\"Accuracy:\", acc)\n",
        "    print(\"Classification Report:\")\n",
        "    print(classification_report(y_test, y_pred))\n",
        "    print(\"Confusion Matrix:\")\n",
        "    print(matrix)\n"
      ],
      "metadata": {
        "id": "V0q4gGF3YAe7",
        "outputId": "bedb6aae-ecce-4958-eb6c-5d8ca4df8226",
        "colab": {
          "base_uri": "https://localhost:8080/"
        }
      },
      "execution_count": 62,
      "outputs": [
        {
          "output_type": "stream",
          "name": "stdout",
          "text": [
            "\n",
            "Logistic Regression (FS)\n",
            "Accuracy: 0.3370867619460084\n",
            "Classification Report:\n",
            "              precision    recall  f1-score   support\n",
            "\n",
            "           0       0.35      0.26      0.30      2376\n",
            "           1       0.33      0.37      0.35      2267\n",
            "           2       0.34      0.38      0.36      2284\n",
            "\n",
            "    accuracy                           0.34      6927\n",
            "   macro avg       0.34      0.34      0.34      6927\n",
            "weighted avg       0.34      0.34      0.33      6927\n",
            "\n",
            "Confusion Matrix:\n",
            "[[622 882 872]\n",
            " [567 835 865]\n",
            " [592 814 878]]\n",
            "\n",
            "Random Forest (FS)\n",
            "Accuracy: 0.3272701024974737\n",
            "Classification Report:\n",
            "              precision    recall  f1-score   support\n",
            "\n",
            "           0       0.34      0.35      0.34      2376\n",
            "           1       0.32      0.32      0.32      2267\n",
            "           2       0.32      0.31      0.32      2284\n",
            "\n",
            "    accuracy                           0.33      6927\n",
            "   macro avg       0.33      0.33      0.33      6927\n",
            "weighted avg       0.33      0.33      0.33      6927\n",
            "\n",
            "Confusion Matrix:\n",
            "[[827 789 760]\n",
            " [821 734 712]\n",
            " [814 764 706]]\n",
            "\n",
            "XGBoost (FS)\n",
            "Accuracy: 0.3336220586112314\n",
            "Classification Report:\n",
            "              precision    recall  f1-score   support\n",
            "\n",
            "           0       0.35      0.36      0.35      2376\n",
            "           1       0.33      0.33      0.33      2267\n",
            "           2       0.32      0.32      0.32      2284\n",
            "\n",
            "    accuracy                           0.33      6927\n",
            "   macro avg       0.33      0.33      0.33      6927\n",
            "weighted avg       0.33      0.33      0.33      6927\n",
            "\n",
            "Confusion Matrix:\n",
            "[[846 750 780]\n",
            " [756 743 768]\n",
            " [829 733 722]]\n",
            "\n",
            "SVM (FS)\n",
            "Accuracy: 0.33217843222174104\n",
            "Classification Report:\n",
            "              precision    recall  f1-score   support\n",
            "\n",
            "           0       0.34      0.37      0.35      2376\n",
            "           1       0.33      0.33      0.33      2267\n",
            "           2       0.33      0.30      0.31      2284\n",
            "\n",
            "    accuracy                           0.33      6927\n",
            "   macro avg       0.33      0.33      0.33      6927\n",
            "weighted avg       0.33      0.33      0.33      6927\n",
            "\n",
            "Confusion Matrix:\n",
            "[[884 802 690]\n",
            " [853 741 673]\n",
            " [881 727 676]]\n"
          ]
        }
      ]
    }
  ],
  "metadata": {
    "kernelspec": {
      "display_name": "Python 3",
      "name": "python3"
    },
    "language_info": {
      "codemirror_mode": {
        "name": "ipython",
        "version": 3
      },
      "file_extension": ".py",
      "mimetype": "text/x-python",
      "name": "python",
      "nbconvert_exporter": "python",
      "pygments_lexer": "ipython3",
      "version": "3.11.7"
    },
    "colab": {
      "provenance": [],
      "machine_shape": "hm",
      "gpuType": "T4"
    },
    "accelerator": "GPU"
  },
  "nbformat": 4,
  "nbformat_minor": 0
}